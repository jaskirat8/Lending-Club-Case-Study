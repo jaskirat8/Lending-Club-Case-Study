{
 "cells": [
  {
   "cell_type": "markdown",
   "id": "da777095",
   "metadata": {},
   "source": [
    "# **`Lending Club Case Study`**\n",
    "\n",
    "A consumer finance company which specialises in lending various types of loans to urban customers.\n",
    "\n",
    "\n",
    "## Business Understanding\n",
    "\n",
    "When the company receives a loan application, the company has to make a decision for loan approval based on the applicant’s profile.\n",
    "\n",
    "Two  **types of risks**  are associated with the bank’s decision:\n",
    "\n",
    "-   If the applicant is **likely to repay the loan**, then not approving the loan results in a  **loss of business**  to the company\n",
    "    \n",
    "-   If the applicant is  **not likely to repay the loan,**  i.e. he/she is likely to default, then approving the loan may lead to a  **financial loss**  for the company"
   ]
  },
  {
   "cell_type": "markdown",
   "id": "0d71274a",
   "metadata": {},
   "source": [
    "## Aim\n",
    "\n",
    "To identify these risky loan applicants, then such loans can be reduced thereby cutting down the amount of credit loss. Identification of such applicants using EDA is the aim of this case study.\n"
   ]
  },
  {
   "cell_type": "markdown",
   "id": "a11d1eb2",
   "metadata": {},
   "source": [
    "## Case Study Approach\n",
    "\n",
    "We will approaching this in **4 stages**:\n",
    "\n",
    "1. Data understanding\n",
    "\n",
    "2. Data cleaning\n",
    "\n",
    "3. Data Analysis\n",
    "\n",
    "4. Recommendations"
   ]
  },
  {
   "cell_type": "markdown",
   "id": "707b5f3c",
   "metadata": {},
   "source": [
    "#### Importing required libraries"
   ]
  },
  {
   "cell_type": "code",
   "execution_count": 1,
   "id": "c74a9ad4",
   "metadata": {},
   "outputs": [],
   "source": [
    "## Numpy and Pandas to contain and perform operations on data\n",
    "import numpy as np # for mathematical operations\n",
    "import pandas as pd # for reading and manipulation of data\n",
    "\n",
    "## Matplotlib and Seaborn to visualize the data once we have cleaned up data\n",
    "import matplotlib.pyplot as plt # for plotting charts and graphs\n",
    "import seaborn as sns # for better charts and graphs (advanced graph library that uses matplotlib)\n",
    "\n",
    "## Ignore the warnings\n",
    "import warnings \n",
    "#warnings.filterwarnings(\"ignore\")\n",
    "warnings.simplefilter('always')\n",
    "\n",
    "import math"
   ]
  },
  {
   "cell_type": "markdown",
   "id": "d000710c",
   "metadata": {},
   "source": [
    "#### Loading DataSet"
   ]
  },
  {
   "cell_type": "code",
   "execution_count": 2,
   "id": "69a2c276",
   "metadata": {},
   "outputs": [],
   "source": [
    "loanDataSet_df = pd.read_csv('loan.csv',low_memory=False) #switched off low_memory else 47 columns were getting parsed as mixed types"
   ]
  },
  {
   "cell_type": "markdown",
   "id": "1dafd709",
   "metadata": {},
   "source": [
    "## <font color =orange> **1. Data Understanding**"
   ]
  },
  {
   "cell_type": "code",
   "execution_count": 3,
   "id": "247f8029",
   "metadata": {},
   "outputs": [
    {
     "data": {
      "text/html": [
       "<div>\n",
       "<style scoped>\n",
       "    .dataframe tbody tr th:only-of-type {\n",
       "        vertical-align: middle;\n",
       "    }\n",
       "\n",
       "    .dataframe tbody tr th {\n",
       "        vertical-align: top;\n",
       "    }\n",
       "\n",
       "    .dataframe thead th {\n",
       "        text-align: right;\n",
       "    }\n",
       "</style>\n",
       "<table border=\"1\" class=\"dataframe\">\n",
       "  <thead>\n",
       "    <tr style=\"text-align: right;\">\n",
       "      <th></th>\n",
       "      <th>id</th>\n",
       "      <th>member_id</th>\n",
       "      <th>loan_amnt</th>\n",
       "      <th>funded_amnt</th>\n",
       "      <th>funded_amnt_inv</th>\n",
       "      <th>term</th>\n",
       "      <th>int_rate</th>\n",
       "      <th>installment</th>\n",
       "      <th>grade</th>\n",
       "      <th>sub_grade</th>\n",
       "      <th>...</th>\n",
       "      <th>num_tl_90g_dpd_24m</th>\n",
       "      <th>num_tl_op_past_12m</th>\n",
       "      <th>pct_tl_nvr_dlq</th>\n",
       "      <th>percent_bc_gt_75</th>\n",
       "      <th>pub_rec_bankruptcies</th>\n",
       "      <th>tax_liens</th>\n",
       "      <th>tot_hi_cred_lim</th>\n",
       "      <th>total_bal_ex_mort</th>\n",
       "      <th>total_bc_limit</th>\n",
       "      <th>total_il_high_credit_limit</th>\n",
       "    </tr>\n",
       "  </thead>\n",
       "  <tbody>\n",
       "    <tr>\n",
       "      <th>0</th>\n",
       "      <td>1077501</td>\n",
       "      <td>1296599</td>\n",
       "      <td>5000</td>\n",
       "      <td>5000</td>\n",
       "      <td>4975.0</td>\n",
       "      <td>36 months</td>\n",
       "      <td>10.65%</td>\n",
       "      <td>162.87</td>\n",
       "      <td>B</td>\n",
       "      <td>B2</td>\n",
       "      <td>...</td>\n",
       "      <td>NaN</td>\n",
       "      <td>NaN</td>\n",
       "      <td>NaN</td>\n",
       "      <td>NaN</td>\n",
       "      <td>0.0</td>\n",
       "      <td>0.0</td>\n",
       "      <td>NaN</td>\n",
       "      <td>NaN</td>\n",
       "      <td>NaN</td>\n",
       "      <td>NaN</td>\n",
       "    </tr>\n",
       "    <tr>\n",
       "      <th>1</th>\n",
       "      <td>1077430</td>\n",
       "      <td>1314167</td>\n",
       "      <td>2500</td>\n",
       "      <td>2500</td>\n",
       "      <td>2500.0</td>\n",
       "      <td>60 months</td>\n",
       "      <td>15.27%</td>\n",
       "      <td>59.83</td>\n",
       "      <td>C</td>\n",
       "      <td>C4</td>\n",
       "      <td>...</td>\n",
       "      <td>NaN</td>\n",
       "      <td>NaN</td>\n",
       "      <td>NaN</td>\n",
       "      <td>NaN</td>\n",
       "      <td>0.0</td>\n",
       "      <td>0.0</td>\n",
       "      <td>NaN</td>\n",
       "      <td>NaN</td>\n",
       "      <td>NaN</td>\n",
       "      <td>NaN</td>\n",
       "    </tr>\n",
       "    <tr>\n",
       "      <th>2</th>\n",
       "      <td>1077175</td>\n",
       "      <td>1313524</td>\n",
       "      <td>2400</td>\n",
       "      <td>2400</td>\n",
       "      <td>2400.0</td>\n",
       "      <td>36 months</td>\n",
       "      <td>15.96%</td>\n",
       "      <td>84.33</td>\n",
       "      <td>C</td>\n",
       "      <td>C5</td>\n",
       "      <td>...</td>\n",
       "      <td>NaN</td>\n",
       "      <td>NaN</td>\n",
       "      <td>NaN</td>\n",
       "      <td>NaN</td>\n",
       "      <td>0.0</td>\n",
       "      <td>0.0</td>\n",
       "      <td>NaN</td>\n",
       "      <td>NaN</td>\n",
       "      <td>NaN</td>\n",
       "      <td>NaN</td>\n",
       "    </tr>\n",
       "    <tr>\n",
       "      <th>3</th>\n",
       "      <td>1076863</td>\n",
       "      <td>1277178</td>\n",
       "      <td>10000</td>\n",
       "      <td>10000</td>\n",
       "      <td>10000.0</td>\n",
       "      <td>36 months</td>\n",
       "      <td>13.49%</td>\n",
       "      <td>339.31</td>\n",
       "      <td>C</td>\n",
       "      <td>C1</td>\n",
       "      <td>...</td>\n",
       "      <td>NaN</td>\n",
       "      <td>NaN</td>\n",
       "      <td>NaN</td>\n",
       "      <td>NaN</td>\n",
       "      <td>0.0</td>\n",
       "      <td>0.0</td>\n",
       "      <td>NaN</td>\n",
       "      <td>NaN</td>\n",
       "      <td>NaN</td>\n",
       "      <td>NaN</td>\n",
       "    </tr>\n",
       "    <tr>\n",
       "      <th>4</th>\n",
       "      <td>1075358</td>\n",
       "      <td>1311748</td>\n",
       "      <td>3000</td>\n",
       "      <td>3000</td>\n",
       "      <td>3000.0</td>\n",
       "      <td>60 months</td>\n",
       "      <td>12.69%</td>\n",
       "      <td>67.79</td>\n",
       "      <td>B</td>\n",
       "      <td>B5</td>\n",
       "      <td>...</td>\n",
       "      <td>NaN</td>\n",
       "      <td>NaN</td>\n",
       "      <td>NaN</td>\n",
       "      <td>NaN</td>\n",
       "      <td>0.0</td>\n",
       "      <td>0.0</td>\n",
       "      <td>NaN</td>\n",
       "      <td>NaN</td>\n",
       "      <td>NaN</td>\n",
       "      <td>NaN</td>\n",
       "    </tr>\n",
       "    <tr>\n",
       "      <th>...</th>\n",
       "      <td>...</td>\n",
       "      <td>...</td>\n",
       "      <td>...</td>\n",
       "      <td>...</td>\n",
       "      <td>...</td>\n",
       "      <td>...</td>\n",
       "      <td>...</td>\n",
       "      <td>...</td>\n",
       "      <td>...</td>\n",
       "      <td>...</td>\n",
       "      <td>...</td>\n",
       "      <td>...</td>\n",
       "      <td>...</td>\n",
       "      <td>...</td>\n",
       "      <td>...</td>\n",
       "      <td>...</td>\n",
       "      <td>...</td>\n",
       "      <td>...</td>\n",
       "      <td>...</td>\n",
       "      <td>...</td>\n",
       "      <td>...</td>\n",
       "    </tr>\n",
       "    <tr>\n",
       "      <th>39712</th>\n",
       "      <td>92187</td>\n",
       "      <td>92174</td>\n",
       "      <td>2500</td>\n",
       "      <td>2500</td>\n",
       "      <td>1075.0</td>\n",
       "      <td>36 months</td>\n",
       "      <td>8.07%</td>\n",
       "      <td>78.42</td>\n",
       "      <td>A</td>\n",
       "      <td>A4</td>\n",
       "      <td>...</td>\n",
       "      <td>NaN</td>\n",
       "      <td>NaN</td>\n",
       "      <td>NaN</td>\n",
       "      <td>NaN</td>\n",
       "      <td>NaN</td>\n",
       "      <td>NaN</td>\n",
       "      <td>NaN</td>\n",
       "      <td>NaN</td>\n",
       "      <td>NaN</td>\n",
       "      <td>NaN</td>\n",
       "    </tr>\n",
       "    <tr>\n",
       "      <th>39713</th>\n",
       "      <td>90665</td>\n",
       "      <td>90607</td>\n",
       "      <td>8500</td>\n",
       "      <td>8500</td>\n",
       "      <td>875.0</td>\n",
       "      <td>36 months</td>\n",
       "      <td>10.28%</td>\n",
       "      <td>275.38</td>\n",
       "      <td>C</td>\n",
       "      <td>C1</td>\n",
       "      <td>...</td>\n",
       "      <td>NaN</td>\n",
       "      <td>NaN</td>\n",
       "      <td>NaN</td>\n",
       "      <td>NaN</td>\n",
       "      <td>NaN</td>\n",
       "      <td>NaN</td>\n",
       "      <td>NaN</td>\n",
       "      <td>NaN</td>\n",
       "      <td>NaN</td>\n",
       "      <td>NaN</td>\n",
       "    </tr>\n",
       "    <tr>\n",
       "      <th>39714</th>\n",
       "      <td>90395</td>\n",
       "      <td>90390</td>\n",
       "      <td>5000</td>\n",
       "      <td>5000</td>\n",
       "      <td>1325.0</td>\n",
       "      <td>36 months</td>\n",
       "      <td>8.07%</td>\n",
       "      <td>156.84</td>\n",
       "      <td>A</td>\n",
       "      <td>A4</td>\n",
       "      <td>...</td>\n",
       "      <td>NaN</td>\n",
       "      <td>NaN</td>\n",
       "      <td>NaN</td>\n",
       "      <td>NaN</td>\n",
       "      <td>NaN</td>\n",
       "      <td>NaN</td>\n",
       "      <td>NaN</td>\n",
       "      <td>NaN</td>\n",
       "      <td>NaN</td>\n",
       "      <td>NaN</td>\n",
       "    </tr>\n",
       "    <tr>\n",
       "      <th>39715</th>\n",
       "      <td>90376</td>\n",
       "      <td>89243</td>\n",
       "      <td>5000</td>\n",
       "      <td>5000</td>\n",
       "      <td>650.0</td>\n",
       "      <td>36 months</td>\n",
       "      <td>7.43%</td>\n",
       "      <td>155.38</td>\n",
       "      <td>A</td>\n",
       "      <td>A2</td>\n",
       "      <td>...</td>\n",
       "      <td>NaN</td>\n",
       "      <td>NaN</td>\n",
       "      <td>NaN</td>\n",
       "      <td>NaN</td>\n",
       "      <td>NaN</td>\n",
       "      <td>NaN</td>\n",
       "      <td>NaN</td>\n",
       "      <td>NaN</td>\n",
       "      <td>NaN</td>\n",
       "      <td>NaN</td>\n",
       "    </tr>\n",
       "    <tr>\n",
       "      <th>39716</th>\n",
       "      <td>87023</td>\n",
       "      <td>86999</td>\n",
       "      <td>7500</td>\n",
       "      <td>7500</td>\n",
       "      <td>800.0</td>\n",
       "      <td>36 months</td>\n",
       "      <td>13.75%</td>\n",
       "      <td>255.43</td>\n",
       "      <td>E</td>\n",
       "      <td>E2</td>\n",
       "      <td>...</td>\n",
       "      <td>NaN</td>\n",
       "      <td>NaN</td>\n",
       "      <td>NaN</td>\n",
       "      <td>NaN</td>\n",
       "      <td>NaN</td>\n",
       "      <td>NaN</td>\n",
       "      <td>NaN</td>\n",
       "      <td>NaN</td>\n",
       "      <td>NaN</td>\n",
       "      <td>NaN</td>\n",
       "    </tr>\n",
       "  </tbody>\n",
       "</table>\n",
       "<p>39717 rows × 111 columns</p>\n",
       "</div>"
      ],
      "text/plain": [
       "            id  member_id  loan_amnt  funded_amnt  funded_amnt_inv  \\\n",
       "0      1077501    1296599       5000         5000           4975.0   \n",
       "1      1077430    1314167       2500         2500           2500.0   \n",
       "2      1077175    1313524       2400         2400           2400.0   \n",
       "3      1076863    1277178      10000        10000          10000.0   \n",
       "4      1075358    1311748       3000         3000           3000.0   \n",
       "...        ...        ...        ...          ...              ...   \n",
       "39712    92187      92174       2500         2500           1075.0   \n",
       "39713    90665      90607       8500         8500            875.0   \n",
       "39714    90395      90390       5000         5000           1325.0   \n",
       "39715    90376      89243       5000         5000            650.0   \n",
       "39716    87023      86999       7500         7500            800.0   \n",
       "\n",
       "             term int_rate  installment grade sub_grade  ...  \\\n",
       "0       36 months   10.65%       162.87     B        B2  ...   \n",
       "1       60 months   15.27%        59.83     C        C4  ...   \n",
       "2       36 months   15.96%        84.33     C        C5  ...   \n",
       "3       36 months   13.49%       339.31     C        C1  ...   \n",
       "4       60 months   12.69%        67.79     B        B5  ...   \n",
       "...           ...      ...          ...   ...       ...  ...   \n",
       "39712   36 months    8.07%        78.42     A        A4  ...   \n",
       "39713   36 months   10.28%       275.38     C        C1  ...   \n",
       "39714   36 months    8.07%       156.84     A        A4  ...   \n",
       "39715   36 months    7.43%       155.38     A        A2  ...   \n",
       "39716   36 months   13.75%       255.43     E        E2  ...   \n",
       "\n",
       "      num_tl_90g_dpd_24m num_tl_op_past_12m pct_tl_nvr_dlq  percent_bc_gt_75  \\\n",
       "0                    NaN                NaN            NaN               NaN   \n",
       "1                    NaN                NaN            NaN               NaN   \n",
       "2                    NaN                NaN            NaN               NaN   \n",
       "3                    NaN                NaN            NaN               NaN   \n",
       "4                    NaN                NaN            NaN               NaN   \n",
       "...                  ...                ...            ...               ...   \n",
       "39712                NaN                NaN            NaN               NaN   \n",
       "39713                NaN                NaN            NaN               NaN   \n",
       "39714                NaN                NaN            NaN               NaN   \n",
       "39715                NaN                NaN            NaN               NaN   \n",
       "39716                NaN                NaN            NaN               NaN   \n",
       "\n",
       "      pub_rec_bankruptcies tax_liens tot_hi_cred_lim total_bal_ex_mort  \\\n",
       "0                      0.0       0.0             NaN               NaN   \n",
       "1                      0.0       0.0             NaN               NaN   \n",
       "2                      0.0       0.0             NaN               NaN   \n",
       "3                      0.0       0.0             NaN               NaN   \n",
       "4                      0.0       0.0             NaN               NaN   \n",
       "...                    ...       ...             ...               ...   \n",
       "39712                  NaN       NaN             NaN               NaN   \n",
       "39713                  NaN       NaN             NaN               NaN   \n",
       "39714                  NaN       NaN             NaN               NaN   \n",
       "39715                  NaN       NaN             NaN               NaN   \n",
       "39716                  NaN       NaN             NaN               NaN   \n",
       "\n",
       "      total_bc_limit total_il_high_credit_limit  \n",
       "0                NaN                        NaN  \n",
       "1                NaN                        NaN  \n",
       "2                NaN                        NaN  \n",
       "3                NaN                        NaN  \n",
       "4                NaN                        NaN  \n",
       "...              ...                        ...  \n",
       "39712            NaN                        NaN  \n",
       "39713            NaN                        NaN  \n",
       "39714            NaN                        NaN  \n",
       "39715            NaN                        NaN  \n",
       "39716            NaN                        NaN  \n",
       "\n",
       "[39717 rows x 111 columns]"
      ]
     },
     "execution_count": 3,
     "metadata": {},
     "output_type": "execute_result"
    }
   ],
   "source": [
    "# Reading dataset\n",
    "loanDataSet_df"
   ]
  },
  {
   "cell_type": "code",
   "execution_count": 4,
   "id": "0b0da1a2",
   "metadata": {},
   "outputs": [
    {
     "name": "stdout",
     "output_type": "stream",
     "text": [
      "<class 'pandas.core.frame.DataFrame'>\n",
      "RangeIndex: 39717 entries, 0 to 39716\n",
      "Data columns (total 111 columns):\n",
      " #    Column                          Non-Null Count  Dtype  \n",
      "---   ------                          --------------  -----  \n",
      " 0    id                              39717 non-null  int64  \n",
      " 1    member_id                       39717 non-null  int64  \n",
      " 2    loan_amnt                       39717 non-null  int64  \n",
      " 3    funded_amnt                     39717 non-null  int64  \n",
      " 4    funded_amnt_inv                 39717 non-null  float64\n",
      " 5    term                            39717 non-null  object \n",
      " 6    int_rate                        39717 non-null  object \n",
      " 7    installment                     39717 non-null  float64\n",
      " 8    grade                           39717 non-null  object \n",
      " 9    sub_grade                       39717 non-null  object \n",
      " 10   emp_title                       37258 non-null  object \n",
      " 11   emp_length                      38642 non-null  object \n",
      " 12   home_ownership                  39717 non-null  object \n",
      " 13   annual_inc                      39717 non-null  float64\n",
      " 14   verification_status             39717 non-null  object \n",
      " 15   issue_d                         39717 non-null  object \n",
      " 16   loan_status                     39717 non-null  object \n",
      " 17   pymnt_plan                      39717 non-null  object \n",
      " 18   url                             39717 non-null  object \n",
      " 19   desc                            26777 non-null  object \n",
      " 20   purpose                         39717 non-null  object \n",
      " 21   title                           39706 non-null  object \n",
      " 22   zip_code                        39717 non-null  object \n",
      " 23   addr_state                      39717 non-null  object \n",
      " 24   dti                             39717 non-null  float64\n",
      " 25   delinq_2yrs                     39717 non-null  int64  \n",
      " 26   earliest_cr_line                39717 non-null  object \n",
      " 27   inq_last_6mths                  39717 non-null  int64  \n",
      " 28   mths_since_last_delinq          14035 non-null  float64\n",
      " 29   mths_since_last_record          2786 non-null   float64\n",
      " 30   open_acc                        39717 non-null  int64  \n",
      " 31   pub_rec                         39717 non-null  int64  \n",
      " 32   revol_bal                       39717 non-null  int64  \n",
      " 33   revol_util                      39667 non-null  object \n",
      " 34   total_acc                       39717 non-null  int64  \n",
      " 35   initial_list_status             39717 non-null  object \n",
      " 36   out_prncp                       39717 non-null  float64\n",
      " 37   out_prncp_inv                   39717 non-null  float64\n",
      " 38   total_pymnt                     39717 non-null  float64\n",
      " 39   total_pymnt_inv                 39717 non-null  float64\n",
      " 40   total_rec_prncp                 39717 non-null  float64\n",
      " 41   total_rec_int                   39717 non-null  float64\n",
      " 42   total_rec_late_fee              39717 non-null  float64\n",
      " 43   recoveries                      39717 non-null  float64\n",
      " 44   collection_recovery_fee         39717 non-null  float64\n",
      " 45   last_pymnt_d                    39646 non-null  object \n",
      " 46   last_pymnt_amnt                 39717 non-null  float64\n",
      " 47   next_pymnt_d                    1140 non-null   object \n",
      " 48   last_credit_pull_d              39715 non-null  object \n",
      " 49   collections_12_mths_ex_med      39661 non-null  float64\n",
      " 50   mths_since_last_major_derog     0 non-null      float64\n",
      " 51   policy_code                     39717 non-null  int64  \n",
      " 52   application_type                39717 non-null  object \n",
      " 53   annual_inc_joint                0 non-null      float64\n",
      " 54   dti_joint                       0 non-null      float64\n",
      " 55   verification_status_joint       0 non-null      float64\n",
      " 56   acc_now_delinq                  39717 non-null  int64  \n",
      " 57   tot_coll_amt                    0 non-null      float64\n",
      " 58   tot_cur_bal                     0 non-null      float64\n",
      " 59   open_acc_6m                     0 non-null      float64\n",
      " 60   open_il_6m                      0 non-null      float64\n",
      " 61   open_il_12m                     0 non-null      float64\n",
      " 62   open_il_24m                     0 non-null      float64\n",
      " 63   mths_since_rcnt_il              0 non-null      float64\n",
      " 64   total_bal_il                    0 non-null      float64\n",
      " 65   il_util                         0 non-null      float64\n",
      " 66   open_rv_12m                     0 non-null      float64\n",
      " 67   open_rv_24m                     0 non-null      float64\n",
      " 68   max_bal_bc                      0 non-null      float64\n",
      " 69   all_util                        0 non-null      float64\n",
      " 70   total_rev_hi_lim                0 non-null      float64\n",
      " 71   inq_fi                          0 non-null      float64\n",
      " 72   total_cu_tl                     0 non-null      float64\n",
      " 73   inq_last_12m                    0 non-null      float64\n",
      " 74   acc_open_past_24mths            0 non-null      float64\n",
      " 75   avg_cur_bal                     0 non-null      float64\n",
      " 76   bc_open_to_buy                  0 non-null      float64\n",
      " 77   bc_util                         0 non-null      float64\n",
      " 78   chargeoff_within_12_mths        39661 non-null  float64\n",
      " 79   delinq_amnt                     39717 non-null  int64  \n",
      " 80   mo_sin_old_il_acct              0 non-null      float64\n",
      " 81   mo_sin_old_rev_tl_op            0 non-null      float64\n",
      " 82   mo_sin_rcnt_rev_tl_op           0 non-null      float64\n",
      " 83   mo_sin_rcnt_tl                  0 non-null      float64\n",
      " 84   mort_acc                        0 non-null      float64\n",
      " 85   mths_since_recent_bc            0 non-null      float64\n",
      " 86   mths_since_recent_bc_dlq        0 non-null      float64\n",
      " 87   mths_since_recent_inq           0 non-null      float64\n",
      " 88   mths_since_recent_revol_delinq  0 non-null      float64\n",
      " 89   num_accts_ever_120_pd           0 non-null      float64\n",
      " 90   num_actv_bc_tl                  0 non-null      float64\n",
      " 91   num_actv_rev_tl                 0 non-null      float64\n",
      " 92   num_bc_sats                     0 non-null      float64\n",
      " 93   num_bc_tl                       0 non-null      float64\n",
      " 94   num_il_tl                       0 non-null      float64\n",
      " 95   num_op_rev_tl                   0 non-null      float64\n",
      " 96   num_rev_accts                   0 non-null      float64\n",
      " 97   num_rev_tl_bal_gt_0             0 non-null      float64\n",
      " 98   num_sats                        0 non-null      float64\n",
      " 99   num_tl_120dpd_2m                0 non-null      float64\n",
      " 100  num_tl_30dpd                    0 non-null      float64\n",
      " 101  num_tl_90g_dpd_24m              0 non-null      float64\n",
      " 102  num_tl_op_past_12m              0 non-null      float64\n",
      " 103  pct_tl_nvr_dlq                  0 non-null      float64\n",
      " 104  percent_bc_gt_75                0 non-null      float64\n",
      " 105  pub_rec_bankruptcies            39020 non-null  float64\n",
      " 106  tax_liens                       39678 non-null  float64\n",
      " 107  tot_hi_cred_lim                 0 non-null      float64\n",
      " 108  total_bal_ex_mort               0 non-null      float64\n",
      " 109  total_bc_limit                  0 non-null      float64\n",
      " 110  total_il_high_credit_limit      0 non-null      float64\n",
      "dtypes: float64(74), int64(13), object(24)\n",
      "memory usage: 33.6+ MB\n"
     ]
    }
   ],
   "source": [
    "# Extracting information of dataset i.e. datatypes and non-null count in each column.\n",
    "loanDataSet_df.info(verbose=True, show_counts=True) # verbose and show_counts flag has to be explicitly used since our dataset is bigger than 'pandas.options.display.max_info_columns'"
   ]
  },
  {
   "cell_type": "markdown",
   "id": "11f8cbe8",
   "metadata": {},
   "source": [
    "Since **loan_status** is target variable hence checking possible values it can have "
   ]
  },
  {
   "cell_type": "code",
   "execution_count": 5,
   "id": "0b804bf3",
   "metadata": {},
   "outputs": [
    {
     "data": {
      "text/plain": [
       "array(['Fully Paid', 'Charged Off', 'Current'], dtype=object)"
      ]
     },
     "execution_count": 5,
     "metadata": {},
     "output_type": "execute_result"
    }
   ],
   "source": [
    "loanDataSet_df.loan_status.unique() # will print unique values in column 'loan_status'"
   ]
  },
  {
   "cell_type": "markdown",
   "id": "09466706",
   "metadata": {},
   "source": [
    "#### Outcome - Data Understanding\n",
    "\n",
    "There are **111 columns**  (or variables) out of which 74 are of datatype float, 64 of int64 and 24 are object.  \n",
    "\n",
    "In total we have **39717 rows**.\n",
    "\n",
    "This is what we have at start of this exercise. As we clean and analyse dataset, the columns and rows will vary based on operations applied.\n",
    "\n",
    "We have observed following quality issues:\n",
    "\n",
    "1. Many **columns** which have **no values** which makes them candidate for Data cleaning stage. \n",
    "2. Some **rows** have **null values in some columns** which will also be treated in cleaning phase of data analysis.\n",
    "3. There are certain customer behavioural columns which are available post loan start and hence will not be available before loan start and cannot be used to estimate whether a said prespective customer will ***default*** or not  \n",
    "4. There 3 types of **loan_status** in provided dataset, out of which **Current** will not be useful as said customers can ***default*** or not. Since target variable itself is unknown for these customers hence the analysis will not be accurate if we include them.\n"
   ]
  },
  {
   "cell_type": "markdown",
   "id": "1eee3197",
   "metadata": {},
   "source": [
    "## <font color =orange> **2. Data Cleaning**"
   ]
  },
  {
   "cell_type": "markdown",
   "id": "4b966915",
   "metadata": {},
   "source": [
    "Based on previous stage outcome and generic data cleaning guidelines we will be peforming follwing set of operations on the dataset:\n",
    "\n",
    "1. Remove Customer Behaviour Variables.\n",
    "2. Remove columns which are not relevant.\n",
    "3. Filter out rows having loan_status as **current**.\n",
    "4. Remove all columns which have higher percentage of missing values.\n",
    "4. Fix Datatypes.\n",
    "5. Remove Outliers.\n",
    "\n",
    "\n",
    "### <font color =red> TODO\n",
    "As its indicated we will be doing data filtering first, as doing this first before starting cleaning we will have less number of columns to look for missing data and hence we will not end up fixing a column which we eventually will drop."
   ]
  },
  {
   "cell_type": "code",
   "execution_count": 6,
   "id": "98b1191c",
   "metadata": {},
   "outputs": [],
   "source": [
    "def printColumnCount(dataframe):\n",
    "    print(\"Now we are left with \" + '\\033[1m' + str(dataframe.shape[1]) + ' columns')\n",
    "    \n",
    "def printRowCount(dataframe):\n",
    "    print(\"Now we are left with \" + '\\033[1m' + str(dataframe.shape[0]) + ' rows')"
   ]
  },
  {
   "cell_type": "markdown",
   "id": "c98f0c1b",
   "metadata": {},
   "source": [
    "### Removing Customer Behaviour Variables\n",
    "\n",
    "The dataset contains Customer Behavior Variables which are not available at the time of loan application, and thus they cannot be used as predictors for credit approval. As these variables are generated post loan is disbursed hence will not be helpful in bucketing if a said applicatant can ***default*** or not, as per business requirement we have to recommend drivers which can help is preventing loan disbursement to presepctive ***defaulters***.\n",
    "\n",
    "We will be dropping following columns:\n",
    "\n",
    " - delinq_2yrs\n",
    " - earliest_cr_line\n",
    " - inq_last_6mths\n",
    " - open_acc\n",
    " - pub_rec\n",
    " - revol_bal\n",
    " - revol_util\n",
    " - total_acc\n",
    " - out_prncp\n",
    " - out_prncp_inv\n",
    " - total_pymnt\n",
    " - total_pymnt_inv\n",
    " - total_rec_prncp\n",
    " - total_rec_int\n",
    " - total_rec_late_fee\n",
    " - recoveries\n",
    " - collection_recovery_fee\n",
    " - last_pymnt_d\n",
    " - last_pymnt_amnt\n",
    " - last_credit_pull_d\n",
    " - application_type\n"
   ]
  },
  {
   "cell_type": "code",
   "execution_count": 7,
   "id": "afd7cb0b",
   "metadata": {},
   "outputs": [
    {
     "name": "stdout",
     "output_type": "stream",
     "text": [
      "Now we are left with \u001b[1m91 columns\n"
     ]
    }
   ],
   "source": [
    "loanDataSet_df.drop(['delinq_2yrs', 'earliest_cr_line',\n",
    "       'inq_last_6mths', 'open_acc', 'pub_rec', 'revol_bal', 'revol_util',\n",
    "       'total_acc', 'out_prncp', 'out_prncp_inv', 'total_pymnt',\n",
    "       'total_pymnt_inv', 'total_rec_prncp', 'total_rec_int',\n",
    "       'total_rec_late_fee', 'recoveries', 'collection_recovery_fee',\n",
    "       'last_pymnt_d', 'last_pymnt_amnt', 'last_credit_pull_d',], axis=1, inplace=True)\n",
    "printColumnCount(loanDataSet_df)"
   ]
  },
  {
   "cell_type": "markdown",
   "id": "d3cc7b22",
   "metadata": {},
   "source": [
    "### Removing irrelevant/redundant columns\n",
    "\n",
    "We will be removing following columns:\n",
    "\n",
    "- url: URL for the LC page with listing data. Which only has Id as unique parameter which we already have hence redundant."
   ]
  },
  {
   "cell_type": "code",
   "execution_count": 8,
   "id": "778a29d5",
   "metadata": {},
   "outputs": [
    {
     "name": "stdout",
     "output_type": "stream",
     "text": [
      "Now we are left with \u001b[1m90 columns\n"
     ]
    }
   ],
   "source": [
    "loanDataSet_df.drop(['url'], axis=1, inplace=True)\n",
    "printColumnCount(loanDataSet_df)"
   ]
  },
  {
   "cell_type": "markdown",
   "id": "bf7189e5",
   "metadata": {},
   "source": [
    "### Filtering out rows having loan_status as `current`.\n",
    "\n",
    "\n",
    "We cannot be conclusive of the applicants which have a running loan whether the will ***default** or not. Hence we will filtering out all row having have loan status as **current**"
   ]
  },
  {
   "cell_type": "code",
   "execution_count": 9,
   "id": "5c1fd2bf",
   "metadata": {},
   "outputs": [
    {
     "data": {
      "text/plain": [
       "(1140, 90)"
      ]
     },
     "execution_count": 9,
     "metadata": {},
     "output_type": "execute_result"
    }
   ],
   "source": [
    "loanDataSet_df[loanDataSet_df.loan_status == 'Current'].shape"
   ]
  },
  {
   "cell_type": "markdown",
   "id": "6c2bf069",
   "metadata": {},
   "source": [
    "There are **1140** rows which will be filtered out"
   ]
  },
  {
   "cell_type": "code",
   "execution_count": 10,
   "id": "447497d5",
   "metadata": {},
   "outputs": [
    {
     "name": "stdout",
     "output_type": "stream",
     "text": [
      "Now we are left with \u001b[1m38577 rows\n"
     ]
    }
   ],
   "source": [
    "loanDataSet_df = loanDataSet_df[loanDataSet_df.loan_status != 'Current']\n",
    "printRowCount(loanDataSet_df)"
   ]
  },
  {
   "cell_type": "markdown",
   "id": "6522bcba",
   "metadata": {},
   "source": [
    "The number of **rows** now reduced to **38577**"
   ]
  },
  {
   "cell_type": "markdown",
   "id": "5d63d651",
   "metadata": {},
   "source": [
    "### Removing all columns which have higher percentage of missing values\n"
   ]
  },
  {
   "cell_type": "markdown",
   "id": "210353de",
   "metadata": {},
   "source": [
    "#### <font color =blue> Dropping all the columns with all missing values"
   ]
  },
  {
   "cell_type": "code",
   "execution_count": 11,
   "id": "e1df501a",
   "metadata": {},
   "outputs": [
    {
     "data": {
      "text/plain": [
       "55"
      ]
     },
     "execution_count": 11,
     "metadata": {},
     "output_type": "execute_result"
    }
   ],
   "source": [
    "allNullValuesColumnSeries = loanDataSet_df.isna().sum()[loanDataSet_df.isna().sum() == len(loanDataSet_df)]\n",
    "len(allNullValuesColumnSeries)"
   ]
  },
  {
   "cell_type": "code",
   "execution_count": 12,
   "id": "b08e9e1f",
   "metadata": {},
   "outputs": [
    {
     "data": {
      "text/plain": [
       "Index(['next_pymnt_d', 'mths_since_last_major_derog', 'annual_inc_joint',\n",
       "       'dti_joint', 'verification_status_joint', 'tot_coll_amt', 'tot_cur_bal',\n",
       "       'open_acc_6m', 'open_il_6m', 'open_il_12m', 'open_il_24m',\n",
       "       'mths_since_rcnt_il', 'total_bal_il', 'il_util', 'open_rv_12m',\n",
       "       'open_rv_24m', 'max_bal_bc', 'all_util', 'total_rev_hi_lim', 'inq_fi',\n",
       "       'total_cu_tl', 'inq_last_12m', 'acc_open_past_24mths', 'avg_cur_bal',\n",
       "       'bc_open_to_buy', 'bc_util', 'mo_sin_old_il_acct',\n",
       "       'mo_sin_old_rev_tl_op', 'mo_sin_rcnt_rev_tl_op', 'mo_sin_rcnt_tl',\n",
       "       'mort_acc', 'mths_since_recent_bc', 'mths_since_recent_bc_dlq',\n",
       "       'mths_since_recent_inq', 'mths_since_recent_revol_delinq',\n",
       "       'num_accts_ever_120_pd', 'num_actv_bc_tl', 'num_actv_rev_tl',\n",
       "       'num_bc_sats', 'num_bc_tl', 'num_il_tl', 'num_op_rev_tl',\n",
       "       'num_rev_accts', 'num_rev_tl_bal_gt_0', 'num_sats', 'num_tl_120dpd_2m',\n",
       "       'num_tl_30dpd', 'num_tl_90g_dpd_24m', 'num_tl_op_past_12m',\n",
       "       'pct_tl_nvr_dlq', 'percent_bc_gt_75', 'tot_hi_cred_lim',\n",
       "       'total_bal_ex_mort', 'total_bc_limit', 'total_il_high_credit_limit'],\n",
       "      dtype='object')"
      ]
     },
     "execution_count": 12,
     "metadata": {},
     "output_type": "execute_result"
    }
   ],
   "source": [
    "allNullValuesColumnSeries.index"
   ]
  },
  {
   "cell_type": "markdown",
   "id": "249bf448",
   "metadata": {},
   "source": [
    "There are **55 columns** which are completely null as observed above hence we will proceed with dropping them entirely as the will be of no value to our analysis"
   ]
  },
  {
   "cell_type": "code",
   "execution_count": 13,
   "id": "76cede90",
   "metadata": {},
   "outputs": [
    {
     "name": "stdout",
     "output_type": "stream",
     "text": [
      "Now we are left with \u001b[1m35 columns\n"
     ]
    }
   ],
   "source": [
    "loanDataSet_df = loanDataSet_df.dropna(axis=1, how='all')\n",
    "printColumnCount(loanDataSet_df)"
   ]
  },
  {
   "cell_type": "markdown",
   "id": "fc9e6652",
   "metadata": {},
   "source": [
    "#### <font color =blue> Dropping all the columns with higher percentage of missing values"
   ]
  },
  {
   "cell_type": "code",
   "execution_count": 14,
   "id": "d33692d7",
   "metadata": {},
   "outputs": [
    {
     "data": {
      "text/plain": [
       "10"
      ]
     },
     "execution_count": 14,
     "metadata": {},
     "output_type": "execute_result"
    }
   ],
   "source": [
    "someNullValuesColumnSeries = loanDataSet_df.isna().sum()[loanDataSet_df.isna().sum() > 0]\n",
    "len(someNullValuesColumnSeries)"
   ]
  },
  {
   "cell_type": "code",
   "execution_count": 15,
   "id": "191550f2",
   "metadata": {},
   "outputs": [
    {
     "data": {
      "text/plain": [
       "emp_title                      2386\n",
       "emp_length                     1033\n",
       "desc                          12527\n",
       "title                            11\n",
       "mths_since_last_delinq        24905\n",
       "mths_since_last_record        35837\n",
       "collections_12_mths_ex_med       56\n",
       "chargeoff_within_12_mths         56\n",
       "pub_rec_bankruptcies            697\n",
       "tax_liens                        39\n",
       "dtype: int64"
      ]
     },
     "execution_count": 15,
     "metadata": {},
     "output_type": "execute_result"
    }
   ],
   "source": [
    "someNullValuesColumnSeries"
   ]
  },
  {
   "cell_type": "code",
   "execution_count": 16,
   "id": "f8ef1b82",
   "metadata": {},
   "outputs": [
    {
     "data": {
      "text/plain": [
       "emp_title                      6\n",
       "emp_length                     3\n",
       "desc                          32\n",
       "title                          0\n",
       "mths_since_last_delinq        65\n",
       "mths_since_last_record        93\n",
       "collections_12_mths_ex_med     0\n",
       "chargeoff_within_12_mths       0\n",
       "pub_rec_bankruptcies           2\n",
       "tax_liens                      0\n",
       "dtype: int64"
      ]
     },
     "execution_count": 16,
     "metadata": {},
     "output_type": "execute_result"
    }
   ],
   "source": [
    "someNullValuesColumnSeries.apply(lambda x : round(x/len(loanDataSet_df)*100))"
   ]
  },
  {
   "cell_type": "markdown",
   "id": "e0e1cc5a",
   "metadata": {},
   "source": [
    "From above percentages we can clearly see **mths_since_last_delinq** and **mths_since_last_record** have more that 50% of data missing/null hence we will be dropping them."
   ]
  },
  {
   "cell_type": "code",
   "execution_count": 17,
   "id": "a4872edd",
   "metadata": {},
   "outputs": [
    {
     "name": "stdout",
     "output_type": "stream",
     "text": [
      "Now we are left with \u001b[1m33 columns\n"
     ]
    }
   ],
   "source": [
    "loanDataSet_df = loanDataSet_df.drop(['mths_since_last_delinq','mths_since_last_record'], axis=1)\n",
    "printColumnCount(loanDataSet_df)"
   ]
  },
  {
   "cell_type": "markdown",
   "id": "e3fb7a45",
   "metadata": {},
   "source": [
    "We are still having **8 columns** which contain some null values, but except **desc** rest all are having nulls in single digit percentage, hence the columns can be used as is.\n",
    "\n",
    "While **desc** (Loan description provided by the borrower) has significant amount of null values but not very high so we will first check the kind of data it contains before taking a call to drop or continue as is."
   ]
  },
  {
   "cell_type": "code",
   "execution_count": 18,
   "id": "64dc92a3",
   "metadata": {},
   "outputs": [
    {
     "data": {
      "text/plain": [
       "0          Borrower added on 12/22/11 > I need to upgra...\n",
       "1          Borrower added on 12/22/11 > I plan to use t...\n",
       "2                                                      NaN\n",
       "3          Borrower added on 12/21/11 > to pay for prop...\n",
       "5                                                      NaN\n",
       "                               ...                        \n",
       "39712    Our current gutter system on our home is old a...\n",
       "39713    The rate of interest and fees incurred by carr...\n",
       "39714                                                  NaN\n",
       "39715                                                  NaN\n",
       "39716    I plan to consolidate over $7,000 of debt: a c...\n",
       "Name: desc, Length: 38577, dtype: object"
      ]
     },
     "execution_count": 18,
     "metadata": {},
     "output_type": "execute_result"
    }
   ],
   "source": [
    "loanDataSet_df.desc"
   ]
  },
  {
   "cell_type": "markdown",
   "id": "fb3e2532",
   "metadata": {},
   "source": [
    "From above snippet we can clearly see it contains strings of description provided by borrower which we feel is not relevant to our analysis hence we will be dropping this column also."
   ]
  },
  {
   "cell_type": "code",
   "execution_count": 19,
   "id": "21c9d75d",
   "metadata": {},
   "outputs": [
    {
     "name": "stdout",
     "output_type": "stream",
     "text": [
      "Now we are left with \u001b[1m32 columns\n"
     ]
    }
   ],
   "source": [
    "loanDataSet_df = loanDataSet_df.drop(['desc'], axis=1)\n",
    "printColumnCount(loanDataSet_df)"
   ]
  },
  {
   "cell_type": "markdown",
   "id": "c80a7c23",
   "metadata": {},
   "source": [
    "### Removing rows which are entirely null or duplicated\n"
   ]
  },
  {
   "cell_type": "markdown",
   "id": "395b02ed",
   "metadata": {},
   "source": [
    "#### <font color =blue> Dropping all the rows with all missing values(entirely null)"
   ]
  },
  {
   "cell_type": "code",
   "execution_count": 20,
   "id": "a16c2003",
   "metadata": {},
   "outputs": [
    {
     "data": {
      "text/html": [
       "<div>\n",
       "<style scoped>\n",
       "    .dataframe tbody tr th:only-of-type {\n",
       "        vertical-align: middle;\n",
       "    }\n",
       "\n",
       "    .dataframe tbody tr th {\n",
       "        vertical-align: top;\n",
       "    }\n",
       "\n",
       "    .dataframe thead th {\n",
       "        text-align: right;\n",
       "    }\n",
       "</style>\n",
       "<table border=\"1\" class=\"dataframe\">\n",
       "  <thead>\n",
       "    <tr style=\"text-align: right;\">\n",
       "      <th></th>\n",
       "      <th>id</th>\n",
       "      <th>member_id</th>\n",
       "      <th>loan_amnt</th>\n",
       "      <th>funded_amnt</th>\n",
       "      <th>funded_amnt_inv</th>\n",
       "      <th>term</th>\n",
       "      <th>int_rate</th>\n",
       "      <th>installment</th>\n",
       "      <th>grade</th>\n",
       "      <th>sub_grade</th>\n",
       "      <th>...</th>\n",
       "      <th>dti</th>\n",
       "      <th>initial_list_status</th>\n",
       "      <th>collections_12_mths_ex_med</th>\n",
       "      <th>policy_code</th>\n",
       "      <th>application_type</th>\n",
       "      <th>acc_now_delinq</th>\n",
       "      <th>chargeoff_within_12_mths</th>\n",
       "      <th>delinq_amnt</th>\n",
       "      <th>pub_rec_bankruptcies</th>\n",
       "      <th>tax_liens</th>\n",
       "    </tr>\n",
       "  </thead>\n",
       "  <tbody>\n",
       "  </tbody>\n",
       "</table>\n",
       "<p>0 rows × 32 columns</p>\n",
       "</div>"
      ],
      "text/plain": [
       "Empty DataFrame\n",
       "Columns: [id, member_id, loan_amnt, funded_amnt, funded_amnt_inv, term, int_rate, installment, grade, sub_grade, emp_title, emp_length, home_ownership, annual_inc, verification_status, issue_d, loan_status, pymnt_plan, purpose, title, zip_code, addr_state, dti, initial_list_status, collections_12_mths_ex_med, policy_code, application_type, acc_now_delinq, chargeoff_within_12_mths, delinq_amnt, pub_rec_bankruptcies, tax_liens]\n",
       "Index: []\n",
       "\n",
       "[0 rows x 32 columns]"
      ]
     },
     "execution_count": 20,
     "metadata": {},
     "output_type": "execute_result"
    }
   ],
   "source": [
    "loanDataSet_df[(loanDataSet_df.isna().sum(axis=1) == len(loanDataSet_df.columns))]"
   ]
  },
  {
   "cell_type": "markdown",
   "id": "22bddcc3",
   "metadata": {},
   "source": [
    "So this means no such rows which are entirely null"
   ]
  },
  {
   "cell_type": "markdown",
   "id": "3f66873b",
   "metadata": {},
   "source": [
    "#### <font color =blue> Dropping all the rows which are duplicated"
   ]
  },
  {
   "cell_type": "code",
   "execution_count": 21,
   "id": "facb9854",
   "metadata": {},
   "outputs": [
    {
     "data": {
      "text/plain": [
       "0"
      ]
     },
     "execution_count": 21,
     "metadata": {},
     "output_type": "execute_result"
    }
   ],
   "source": [
    "loanDataSet_df.duplicated().sum()"
   ]
  },
  {
   "cell_type": "markdown",
   "id": "ced04e8e",
   "metadata": {},
   "source": [
    "No duplicated rows found."
   ]
  },
  {
   "cell_type": "markdown",
   "id": "e229dfb0",
   "metadata": {},
   "source": [
    "### Removing all columns which have constant values\n"
   ]
  },
  {
   "cell_type": "markdown",
   "id": "c424e136",
   "metadata": {},
   "source": [
    "#### <font color =blue> Dropping all the numeric columns with constant values"
   ]
  },
  {
   "cell_type": "code",
   "execution_count": 22,
   "id": "30624802",
   "metadata": {},
   "outputs": [
    {
     "data": {
      "text/html": [
       "<div>\n",
       "<style scoped>\n",
       "    .dataframe tbody tr th:only-of-type {\n",
       "        vertical-align: middle;\n",
       "    }\n",
       "\n",
       "    .dataframe tbody tr th {\n",
       "        vertical-align: top;\n",
       "    }\n",
       "\n",
       "    .dataframe thead th {\n",
       "        text-align: right;\n",
       "    }\n",
       "</style>\n",
       "<table border=\"1\" class=\"dataframe\">\n",
       "  <thead>\n",
       "    <tr style=\"text-align: right;\">\n",
       "      <th></th>\n",
       "      <th>id</th>\n",
       "      <th>member_id</th>\n",
       "      <th>loan_amnt</th>\n",
       "      <th>funded_amnt</th>\n",
       "      <th>funded_amnt_inv</th>\n",
       "      <th>installment</th>\n",
       "      <th>annual_inc</th>\n",
       "      <th>dti</th>\n",
       "      <th>collections_12_mths_ex_med</th>\n",
       "      <th>policy_code</th>\n",
       "      <th>acc_now_delinq</th>\n",
       "      <th>chargeoff_within_12_mths</th>\n",
       "      <th>delinq_amnt</th>\n",
       "      <th>pub_rec_bankruptcies</th>\n",
       "      <th>tax_liens</th>\n",
       "    </tr>\n",
       "  </thead>\n",
       "  <tbody>\n",
       "    <tr>\n",
       "      <th>count</th>\n",
       "      <td>3.857700e+04</td>\n",
       "      <td>3.857700e+04</td>\n",
       "      <td>38577.000000</td>\n",
       "      <td>38577.000000</td>\n",
       "      <td>38577.000000</td>\n",
       "      <td>38577.000000</td>\n",
       "      <td>3.857700e+04</td>\n",
       "      <td>38577.000000</td>\n",
       "      <td>38521.0</td>\n",
       "      <td>38577.0</td>\n",
       "      <td>38577.0</td>\n",
       "      <td>38521.0</td>\n",
       "      <td>38577.0</td>\n",
       "      <td>37880.000000</td>\n",
       "      <td>38538.0</td>\n",
       "    </tr>\n",
       "    <tr>\n",
       "      <th>mean</th>\n",
       "      <td>6.763787e+05</td>\n",
       "      <td>8.422843e+05</td>\n",
       "      <td>11047.025430</td>\n",
       "      <td>10784.058506</td>\n",
       "      <td>10222.481123</td>\n",
       "      <td>322.466318</td>\n",
       "      <td>6.877797e+04</td>\n",
       "      <td>13.272727</td>\n",
       "      <td>0.0</td>\n",
       "      <td>1.0</td>\n",
       "      <td>0.0</td>\n",
       "      <td>0.0</td>\n",
       "      <td>0.0</td>\n",
       "      <td>0.043479</td>\n",
       "      <td>0.0</td>\n",
       "    </tr>\n",
       "    <tr>\n",
       "      <th>std</th>\n",
       "      <td>2.092639e+05</td>\n",
       "      <td>2.644519e+05</td>\n",
       "      <td>7348.441646</td>\n",
       "      <td>7090.306027</td>\n",
       "      <td>7022.720644</td>\n",
       "      <td>208.639215</td>\n",
       "      <td>6.421868e+04</td>\n",
       "      <td>6.673044</td>\n",
       "      <td>0.0</td>\n",
       "      <td>0.0</td>\n",
       "      <td>0.0</td>\n",
       "      <td>0.0</td>\n",
       "      <td>0.0</td>\n",
       "      <td>0.204583</td>\n",
       "      <td>0.0</td>\n",
       "    </tr>\n",
       "    <tr>\n",
       "      <th>min</th>\n",
       "      <td>5.473400e+04</td>\n",
       "      <td>7.069900e+04</td>\n",
       "      <td>500.000000</td>\n",
       "      <td>500.000000</td>\n",
       "      <td>0.000000</td>\n",
       "      <td>15.690000</td>\n",
       "      <td>4.000000e+03</td>\n",
       "      <td>0.000000</td>\n",
       "      <td>0.0</td>\n",
       "      <td>1.0</td>\n",
       "      <td>0.0</td>\n",
       "      <td>0.0</td>\n",
       "      <td>0.0</td>\n",
       "      <td>0.000000</td>\n",
       "      <td>0.0</td>\n",
       "    </tr>\n",
       "    <tr>\n",
       "      <th>25%</th>\n",
       "      <td>5.120330e+05</td>\n",
       "      <td>6.611310e+05</td>\n",
       "      <td>5300.000000</td>\n",
       "      <td>5200.000000</td>\n",
       "      <td>5000.000000</td>\n",
       "      <td>165.740000</td>\n",
       "      <td>4.000000e+04</td>\n",
       "      <td>8.130000</td>\n",
       "      <td>0.0</td>\n",
       "      <td>1.0</td>\n",
       "      <td>0.0</td>\n",
       "      <td>0.0</td>\n",
       "      <td>0.0</td>\n",
       "      <td>0.000000</td>\n",
       "      <td>0.0</td>\n",
       "    </tr>\n",
       "    <tr>\n",
       "      <th>50%</th>\n",
       "      <td>6.564230e+05</td>\n",
       "      <td>8.392920e+05</td>\n",
       "      <td>9600.000000</td>\n",
       "      <td>9550.000000</td>\n",
       "      <td>8733.440000</td>\n",
       "      <td>277.860000</td>\n",
       "      <td>5.886800e+04</td>\n",
       "      <td>13.370000</td>\n",
       "      <td>0.0</td>\n",
       "      <td>1.0</td>\n",
       "      <td>0.0</td>\n",
       "      <td>0.0</td>\n",
       "      <td>0.0</td>\n",
       "      <td>0.000000</td>\n",
       "      <td>0.0</td>\n",
       "    </tr>\n",
       "    <tr>\n",
       "      <th>75%</th>\n",
       "      <td>8.291460e+05</td>\n",
       "      <td>1.037336e+06</td>\n",
       "      <td>15000.000000</td>\n",
       "      <td>15000.000000</td>\n",
       "      <td>14000.000000</td>\n",
       "      <td>425.550000</td>\n",
       "      <td>8.200000e+04</td>\n",
       "      <td>18.560000</td>\n",
       "      <td>0.0</td>\n",
       "      <td>1.0</td>\n",
       "      <td>0.0</td>\n",
       "      <td>0.0</td>\n",
       "      <td>0.0</td>\n",
       "      <td>0.000000</td>\n",
       "      <td>0.0</td>\n",
       "    </tr>\n",
       "    <tr>\n",
       "      <th>max</th>\n",
       "      <td>1.077501e+06</td>\n",
       "      <td>1.314167e+06</td>\n",
       "      <td>35000.000000</td>\n",
       "      <td>35000.000000</td>\n",
       "      <td>35000.000000</td>\n",
       "      <td>1305.190000</td>\n",
       "      <td>6.000000e+06</td>\n",
       "      <td>29.990000</td>\n",
       "      <td>0.0</td>\n",
       "      <td>1.0</td>\n",
       "      <td>0.0</td>\n",
       "      <td>0.0</td>\n",
       "      <td>0.0</td>\n",
       "      <td>2.000000</td>\n",
       "      <td>0.0</td>\n",
       "    </tr>\n",
       "  </tbody>\n",
       "</table>\n",
       "</div>"
      ],
      "text/plain": [
       "                 id     member_id     loan_amnt   funded_amnt  \\\n",
       "count  3.857700e+04  3.857700e+04  38577.000000  38577.000000   \n",
       "mean   6.763787e+05  8.422843e+05  11047.025430  10784.058506   \n",
       "std    2.092639e+05  2.644519e+05   7348.441646   7090.306027   \n",
       "min    5.473400e+04  7.069900e+04    500.000000    500.000000   \n",
       "25%    5.120330e+05  6.611310e+05   5300.000000   5200.000000   \n",
       "50%    6.564230e+05  8.392920e+05   9600.000000   9550.000000   \n",
       "75%    8.291460e+05  1.037336e+06  15000.000000  15000.000000   \n",
       "max    1.077501e+06  1.314167e+06  35000.000000  35000.000000   \n",
       "\n",
       "       funded_amnt_inv   installment    annual_inc           dti  \\\n",
       "count     38577.000000  38577.000000  3.857700e+04  38577.000000   \n",
       "mean      10222.481123    322.466318  6.877797e+04     13.272727   \n",
       "std        7022.720644    208.639215  6.421868e+04      6.673044   \n",
       "min           0.000000     15.690000  4.000000e+03      0.000000   \n",
       "25%        5000.000000    165.740000  4.000000e+04      8.130000   \n",
       "50%        8733.440000    277.860000  5.886800e+04     13.370000   \n",
       "75%       14000.000000    425.550000  8.200000e+04     18.560000   \n",
       "max       35000.000000   1305.190000  6.000000e+06     29.990000   \n",
       "\n",
       "       collections_12_mths_ex_med  policy_code  acc_now_delinq  \\\n",
       "count                     38521.0      38577.0         38577.0   \n",
       "mean                          0.0          1.0             0.0   \n",
       "std                           0.0          0.0             0.0   \n",
       "min                           0.0          1.0             0.0   \n",
       "25%                           0.0          1.0             0.0   \n",
       "50%                           0.0          1.0             0.0   \n",
       "75%                           0.0          1.0             0.0   \n",
       "max                           0.0          1.0             0.0   \n",
       "\n",
       "       chargeoff_within_12_mths  delinq_amnt  pub_rec_bankruptcies  tax_liens  \n",
       "count                   38521.0      38577.0          37880.000000    38538.0  \n",
       "mean                        0.0          0.0              0.043479        0.0  \n",
       "std                         0.0          0.0              0.204583        0.0  \n",
       "min                         0.0          0.0              0.000000        0.0  \n",
       "25%                         0.0          0.0              0.000000        0.0  \n",
       "50%                         0.0          0.0              0.000000        0.0  \n",
       "75%                         0.0          0.0              0.000000        0.0  \n",
       "max                         0.0          0.0              2.000000        0.0  "
      ]
     },
     "execution_count": 22,
     "metadata": {},
     "output_type": "execute_result"
    }
   ],
   "source": [
    "loanDataSet_df.describe()"
   ]
  },
  {
   "cell_type": "markdown",
   "id": "5c9ff3ab",
   "metadata": {},
   "source": [
    "As we can observe above that following columns have a constant value since their **mean**, **median**, **min** and **max** are exactly same value.\n",
    "\n",
    "- collections_12_mths_ex_med\n",
    "- acc_now_delinq\n",
    "- chargeoff_within_12_mths\n",
    "- delinq_amnt\n",
    "- tax_liens\n",
    "- policy_code\n",
    "\n",
    "The same values indicate that whole column has constant value, thereby they will not be able to provide any insight in our analysis, hence dropping them."
   ]
  },
  {
   "cell_type": "code",
   "execution_count": 23,
   "id": "b9a1301b",
   "metadata": {},
   "outputs": [
    {
     "data": {
      "text/plain": [
       "Index(['collections_12_mths_ex_med', 'policy_code', 'acc_now_delinq',\n",
       "       'chargeoff_within_12_mths', 'delinq_amnt', 'tax_liens'],\n",
       "      dtype='object')"
      ]
     },
     "execution_count": 23,
     "metadata": {},
     "output_type": "execute_result"
    }
   ],
   "source": [
    "loanDataSet_column_Metrics_df = loanDataSet_df.describe().transpose()\n",
    "constant_columns_list = loanDataSet_column_Metrics_df[loanDataSet_column_Metrics_df['min'] == loanDataSet_column_Metrics_df['max']].index\n",
    "constant_columns_list"
   ]
  },
  {
   "cell_type": "code",
   "execution_count": 24,
   "id": "4e430dfc",
   "metadata": {},
   "outputs": [
    {
     "name": "stdout",
     "output_type": "stream",
     "text": [
      "Now we are left with \u001b[1m26 columns\n"
     ]
    }
   ],
   "source": [
    "loanDataSet_df = loanDataSet_df.drop(constant_columns_list, axis=1)\n",
    "printColumnCount(loanDataSet_df)"
   ]
  },
  {
   "cell_type": "markdown",
   "id": "3dadbe52",
   "metadata": {},
   "source": [
    "#### <font color =blue> Dropping all the catergorical columns with constant values"
   ]
  },
  {
   "cell_type": "markdown",
   "id": "83e885ab",
   "metadata": {},
   "source": [
    "We have dropped all the numeric columns having constant values, now we will be doing same for object based columns since a constant column there also does not help us."
   ]
  },
  {
   "cell_type": "code",
   "execution_count": 25,
   "id": "45e5ba14",
   "metadata": {},
   "outputs": [
    {
     "name": "stdout",
     "output_type": "stream",
     "text": [
      "<class 'pandas.core.frame.DataFrame'>\n",
      "Int64Index: 38577 entries, 0 to 39716\n",
      "Data columns (total 26 columns):\n",
      " #   Column                Non-Null Count  Dtype  \n",
      "---  ------                --------------  -----  \n",
      " 0   id                    38577 non-null  int64  \n",
      " 1   member_id             38577 non-null  int64  \n",
      " 2   loan_amnt             38577 non-null  int64  \n",
      " 3   funded_amnt           38577 non-null  int64  \n",
      " 4   funded_amnt_inv       38577 non-null  float64\n",
      " 5   term                  38577 non-null  object \n",
      " 6   int_rate              38577 non-null  object \n",
      " 7   installment           38577 non-null  float64\n",
      " 8   grade                 38577 non-null  object \n",
      " 9   sub_grade             38577 non-null  object \n",
      " 10  emp_title             36191 non-null  object \n",
      " 11  emp_length            37544 non-null  object \n",
      " 12  home_ownership        38577 non-null  object \n",
      " 13  annual_inc            38577 non-null  float64\n",
      " 14  verification_status   38577 non-null  object \n",
      " 15  issue_d               38577 non-null  object \n",
      " 16  loan_status           38577 non-null  object \n",
      " 17  pymnt_plan            38577 non-null  object \n",
      " 18  purpose               38577 non-null  object \n",
      " 19  title                 38566 non-null  object \n",
      " 20  zip_code              38577 non-null  object \n",
      " 21  addr_state            38577 non-null  object \n",
      " 22  dti                   38577 non-null  float64\n",
      " 23  initial_list_status   38577 non-null  object \n",
      " 24  application_type      38577 non-null  object \n",
      " 25  pub_rec_bankruptcies  37880 non-null  float64\n",
      "dtypes: float64(5), int64(4), object(17)\n",
      "memory usage: 7.9+ MB\n"
     ]
    }
   ],
   "source": [
    "loanDataSet_df.info()"
   ]
  },
  {
   "cell_type": "code",
   "execution_count": 26,
   "id": "f3628995",
   "metadata": {},
   "outputs": [
    {
     "data": {
      "text/plain": [
       "Index(['term', 'int_rate', 'grade', 'sub_grade', 'emp_title', 'emp_length',\n",
       "       'home_ownership', 'verification_status', 'issue_d', 'loan_status',\n",
       "       'pymnt_plan', 'purpose', 'title', 'zip_code', 'addr_state',\n",
       "       'initial_list_status', 'application_type'],\n",
       "      dtype='object')"
      ]
     },
     "execution_count": 26,
     "metadata": {},
     "output_type": "execute_result"
    }
   ],
   "source": [
    "categoricalColumns = loanDataSet_df.dtypes[loanDataSet_df.dtypes == object].index # extracting all columns having object datatypes\n",
    "categoricalColumns"
   ]
  },
  {
   "cell_type": "code",
   "execution_count": 27,
   "id": "d5080bc0",
   "metadata": {},
   "outputs": [
    {
     "data": {
      "text/plain": [
       "17"
      ]
     },
     "execution_count": 27,
     "metadata": {},
     "output_type": "execute_result"
    }
   ],
   "source": [
    "len(categoricalColumns)"
   ]
  },
  {
   "cell_type": "markdown",
   "id": "7df62b75",
   "metadata": {},
   "source": [
    "Now we will check value counts for each of the **17 columns**\n"
   ]
  },
  {
   "cell_type": "code",
   "execution_count": 28,
   "id": "d0ba027d",
   "metadata": {},
   "outputs": [
    {
     "name": "stdout",
     "output_type": "stream",
     "text": [
      "\u001b[1mpymnt_plan\u001b[0m has only one unique values i.e. constant column \n",
      "\u001b[1minitial_list_status\u001b[0m has only one unique values i.e. constant column \n",
      "\u001b[1mapplication_type\u001b[0m has only one unique values i.e. constant column \n"
     ]
    }
   ],
   "source": [
    "def checkForConstantValues(column):\n",
    "    if len(loanDataSet_df[column].value_counts()) == 1:\n",
    "        print('\\033[1m' + column + '\\033[0m' + \" has only one unique values i.e. constant column \")\n",
    "\n",
    "for column in categoricalColumns:\n",
    "    checkForConstantValues(column)"
   ]
  },
  {
   "cell_type": "markdown",
   "id": "0300599d",
   "metadata": {},
   "source": [
    "Thus we can observe that following columns has only one contant catgeorical value across all rows:\n",
    "\n",
    "- pymnt_plan\n",
    "- application_type\n",
    "- initial_list_status\n",
    "\n",
    "So we will be dropping them."
   ]
  },
  {
   "cell_type": "code",
   "execution_count": 29,
   "id": "1380ec5e",
   "metadata": {},
   "outputs": [
    {
     "name": "stdout",
     "output_type": "stream",
     "text": [
      "Now we are left with \u001b[1m23 columns\n"
     ]
    }
   ],
   "source": [
    "loanDataSet_df = loanDataSet_df.drop(['pymnt_plan', 'application_type', 'initial_list_status'], axis=1)\n",
    "printColumnCount(loanDataSet_df)"
   ]
  },
  {
   "cell_type": "markdown",
   "id": "552833c2",
   "metadata": {},
   "source": [
    "Now we are left with **23 columns**"
   ]
  },
  {
   "cell_type": "markdown",
   "id": "f160a95a",
   "metadata": {},
   "source": [
    "### Fixing data types"
   ]
  },
  {
   "cell_type": "code",
   "execution_count": 30,
   "id": "355daea9",
   "metadata": {},
   "outputs": [
    {
     "name": "stdout",
     "output_type": "stream",
     "text": [
      "<class 'pandas.core.frame.DataFrame'>\n",
      "Int64Index: 38577 entries, 0 to 39716\n",
      "Data columns (total 23 columns):\n",
      " #   Column                Non-Null Count  Dtype  \n",
      "---  ------                --------------  -----  \n",
      " 0   id                    38577 non-null  int64  \n",
      " 1   member_id             38577 non-null  int64  \n",
      " 2   loan_amnt             38577 non-null  int64  \n",
      " 3   funded_amnt           38577 non-null  int64  \n",
      " 4   funded_amnt_inv       38577 non-null  float64\n",
      " 5   term                  38577 non-null  object \n",
      " 6   int_rate              38577 non-null  object \n",
      " 7   installment           38577 non-null  float64\n",
      " 8   grade                 38577 non-null  object \n",
      " 9   sub_grade             38577 non-null  object \n",
      " 10  emp_title             36191 non-null  object \n",
      " 11  emp_length            37544 non-null  object \n",
      " 12  home_ownership        38577 non-null  object \n",
      " 13  annual_inc            38577 non-null  float64\n",
      " 14  verification_status   38577 non-null  object \n",
      " 15  issue_d               38577 non-null  object \n",
      " 16  loan_status           38577 non-null  object \n",
      " 17  purpose               38577 non-null  object \n",
      " 18  title                 38566 non-null  object \n",
      " 19  zip_code              38577 non-null  object \n",
      " 20  addr_state            38577 non-null  object \n",
      " 21  dti                   38577 non-null  float64\n",
      " 22  pub_rec_bankruptcies  37880 non-null  float64\n",
      "dtypes: float64(5), int64(4), object(14)\n",
      "memory usage: 7.1+ MB\n"
     ]
    }
   ],
   "source": [
    "loanDataSet_df.info()"
   ]
  },
  {
   "cell_type": "code",
   "execution_count": 31,
   "id": "b6113080",
   "metadata": {},
   "outputs": [
    {
     "data": {
      "text/html": [
       "<div>\n",
       "<style scoped>\n",
       "    .dataframe tbody tr th:only-of-type {\n",
       "        vertical-align: middle;\n",
       "    }\n",
       "\n",
       "    .dataframe tbody tr th {\n",
       "        vertical-align: top;\n",
       "    }\n",
       "\n",
       "    .dataframe thead th {\n",
       "        text-align: right;\n",
       "    }\n",
       "</style>\n",
       "<table border=\"1\" class=\"dataframe\">\n",
       "  <thead>\n",
       "    <tr style=\"text-align: right;\">\n",
       "      <th></th>\n",
       "      <th>id</th>\n",
       "      <th>member_id</th>\n",
       "      <th>loan_amnt</th>\n",
       "      <th>funded_amnt</th>\n",
       "      <th>funded_amnt_inv</th>\n",
       "      <th>term</th>\n",
       "      <th>int_rate</th>\n",
       "      <th>installment</th>\n",
       "      <th>grade</th>\n",
       "      <th>sub_grade</th>\n",
       "      <th>emp_title</th>\n",
       "      <th>emp_length</th>\n",
       "      <th>home_ownership</th>\n",
       "      <th>annual_inc</th>\n",
       "      <th>verification_status</th>\n",
       "      <th>issue_d</th>\n",
       "      <th>loan_status</th>\n",
       "      <th>purpose</th>\n",
       "      <th>title</th>\n",
       "      <th>zip_code</th>\n",
       "      <th>addr_state</th>\n",
       "      <th>dti</th>\n",
       "      <th>pub_rec_bankruptcies</th>\n",
       "    </tr>\n",
       "  </thead>\n",
       "  <tbody>\n",
       "    <tr>\n",
       "      <th>0</th>\n",
       "      <td>1077501</td>\n",
       "      <td>1296599</td>\n",
       "      <td>5000</td>\n",
       "      <td>5000</td>\n",
       "      <td>4975.0</td>\n",
       "      <td>36 months</td>\n",
       "      <td>10.65%</td>\n",
       "      <td>162.87</td>\n",
       "      <td>B</td>\n",
       "      <td>B2</td>\n",
       "      <td>NaN</td>\n",
       "      <td>10+ years</td>\n",
       "      <td>RENT</td>\n",
       "      <td>24000.0</td>\n",
       "      <td>Verified</td>\n",
       "      <td>Dec-11</td>\n",
       "      <td>Fully Paid</td>\n",
       "      <td>credit_card</td>\n",
       "      <td>Computer</td>\n",
       "      <td>860xx</td>\n",
       "      <td>AZ</td>\n",
       "      <td>27.65</td>\n",
       "      <td>0.0</td>\n",
       "    </tr>\n",
       "    <tr>\n",
       "      <th>1</th>\n",
       "      <td>1077430</td>\n",
       "      <td>1314167</td>\n",
       "      <td>2500</td>\n",
       "      <td>2500</td>\n",
       "      <td>2500.0</td>\n",
       "      <td>60 months</td>\n",
       "      <td>15.27%</td>\n",
       "      <td>59.83</td>\n",
       "      <td>C</td>\n",
       "      <td>C4</td>\n",
       "      <td>Ryder</td>\n",
       "      <td>&lt; 1 year</td>\n",
       "      <td>RENT</td>\n",
       "      <td>30000.0</td>\n",
       "      <td>Source Verified</td>\n",
       "      <td>Dec-11</td>\n",
       "      <td>Charged Off</td>\n",
       "      <td>car</td>\n",
       "      <td>bike</td>\n",
       "      <td>309xx</td>\n",
       "      <td>GA</td>\n",
       "      <td>1.00</td>\n",
       "      <td>0.0</td>\n",
       "    </tr>\n",
       "    <tr>\n",
       "      <th>2</th>\n",
       "      <td>1077175</td>\n",
       "      <td>1313524</td>\n",
       "      <td>2400</td>\n",
       "      <td>2400</td>\n",
       "      <td>2400.0</td>\n",
       "      <td>36 months</td>\n",
       "      <td>15.96%</td>\n",
       "      <td>84.33</td>\n",
       "      <td>C</td>\n",
       "      <td>C5</td>\n",
       "      <td>NaN</td>\n",
       "      <td>10+ years</td>\n",
       "      <td>RENT</td>\n",
       "      <td>12252.0</td>\n",
       "      <td>Not Verified</td>\n",
       "      <td>Dec-11</td>\n",
       "      <td>Fully Paid</td>\n",
       "      <td>small_business</td>\n",
       "      <td>real estate business</td>\n",
       "      <td>606xx</td>\n",
       "      <td>IL</td>\n",
       "      <td>8.72</td>\n",
       "      <td>0.0</td>\n",
       "    </tr>\n",
       "    <tr>\n",
       "      <th>3</th>\n",
       "      <td>1076863</td>\n",
       "      <td>1277178</td>\n",
       "      <td>10000</td>\n",
       "      <td>10000</td>\n",
       "      <td>10000.0</td>\n",
       "      <td>36 months</td>\n",
       "      <td>13.49%</td>\n",
       "      <td>339.31</td>\n",
       "      <td>C</td>\n",
       "      <td>C1</td>\n",
       "      <td>AIR RESOURCES BOARD</td>\n",
       "      <td>10+ years</td>\n",
       "      <td>RENT</td>\n",
       "      <td>49200.0</td>\n",
       "      <td>Source Verified</td>\n",
       "      <td>Dec-11</td>\n",
       "      <td>Fully Paid</td>\n",
       "      <td>other</td>\n",
       "      <td>personel</td>\n",
       "      <td>917xx</td>\n",
       "      <td>CA</td>\n",
       "      <td>20.00</td>\n",
       "      <td>0.0</td>\n",
       "    </tr>\n",
       "    <tr>\n",
       "      <th>5</th>\n",
       "      <td>1075269</td>\n",
       "      <td>1311441</td>\n",
       "      <td>5000</td>\n",
       "      <td>5000</td>\n",
       "      <td>5000.0</td>\n",
       "      <td>36 months</td>\n",
       "      <td>7.90%</td>\n",
       "      <td>156.46</td>\n",
       "      <td>A</td>\n",
       "      <td>A4</td>\n",
       "      <td>Veolia Transportaton</td>\n",
       "      <td>3 years</td>\n",
       "      <td>RENT</td>\n",
       "      <td>36000.0</td>\n",
       "      <td>Source Verified</td>\n",
       "      <td>Dec-11</td>\n",
       "      <td>Fully Paid</td>\n",
       "      <td>wedding</td>\n",
       "      <td>My wedding loan I promise to pay back</td>\n",
       "      <td>852xx</td>\n",
       "      <td>AZ</td>\n",
       "      <td>11.20</td>\n",
       "      <td>0.0</td>\n",
       "    </tr>\n",
       "  </tbody>\n",
       "</table>\n",
       "</div>"
      ],
      "text/plain": [
       "        id  member_id  loan_amnt  funded_amnt  funded_amnt_inv        term  \\\n",
       "0  1077501    1296599       5000         5000           4975.0   36 months   \n",
       "1  1077430    1314167       2500         2500           2500.0   60 months   \n",
       "2  1077175    1313524       2400         2400           2400.0   36 months   \n",
       "3  1076863    1277178      10000        10000          10000.0   36 months   \n",
       "5  1075269    1311441       5000         5000           5000.0   36 months   \n",
       "\n",
       "  int_rate  installment grade sub_grade             emp_title emp_length  \\\n",
       "0   10.65%       162.87     B        B2                   NaN  10+ years   \n",
       "1   15.27%        59.83     C        C4                 Ryder   < 1 year   \n",
       "2   15.96%        84.33     C        C5                   NaN  10+ years   \n",
       "3   13.49%       339.31     C        C1   AIR RESOURCES BOARD  10+ years   \n",
       "5    7.90%       156.46     A        A4  Veolia Transportaton    3 years   \n",
       "\n",
       "  home_ownership  annual_inc verification_status issue_d  loan_status  \\\n",
       "0           RENT     24000.0            Verified  Dec-11   Fully Paid   \n",
       "1           RENT     30000.0     Source Verified  Dec-11  Charged Off   \n",
       "2           RENT     12252.0        Not Verified  Dec-11   Fully Paid   \n",
       "3           RENT     49200.0     Source Verified  Dec-11   Fully Paid   \n",
       "5           RENT     36000.0     Source Verified  Dec-11   Fully Paid   \n",
       "\n",
       "          purpose                                  title zip_code addr_state  \\\n",
       "0     credit_card                               Computer    860xx         AZ   \n",
       "1             car                                   bike    309xx         GA   \n",
       "2  small_business                   real estate business    606xx         IL   \n",
       "3           other                               personel    917xx         CA   \n",
       "5         wedding  My wedding loan I promise to pay back    852xx         AZ   \n",
       "\n",
       "     dti  pub_rec_bankruptcies  \n",
       "0  27.65                   0.0  \n",
       "1   1.00                   0.0  \n",
       "2   8.72                   0.0  \n",
       "3  20.00                   0.0  \n",
       "5  11.20                   0.0  "
      ]
     },
     "execution_count": 31,
     "metadata": {},
     "output_type": "execute_result"
    }
   ],
   "source": [
    "pd.set_option('display.max_columns', None)\n",
    "loanDataSet_df.head()\n",
    "#pd.reset_option(\"max_columns\")"
   ]
  },
  {
   "cell_type": "code",
   "execution_count": 32,
   "id": "acb7e9d8",
   "metadata": {},
   "outputs": [
    {
     "data": {
      "text/plain": [
       "Index(['term', 'int_rate', 'grade', 'sub_grade', 'emp_title', 'emp_length',\n",
       "       'home_ownership', 'verification_status', 'issue_d', 'loan_status',\n",
       "       'purpose', 'title', 'zip_code', 'addr_state'],\n",
       "      dtype='object')"
      ]
     },
     "execution_count": 32,
     "metadata": {},
     "output_type": "execute_result"
    }
   ],
   "source": [
    "categoricalColumns = loanDataSet_df.dtypes[loanDataSet_df.dtypes == object].index # extracting all columns having object datatypes\n",
    "categoricalColumns"
   ]
  },
  {
   "cell_type": "markdown",
   "id": "3fcd549d",
   "metadata": {},
   "source": [
    "From observing dataframe info and just the first 5 rows we can conclude that following columns datatype can be corrected by performing operations:\n",
    "\n",
    "- **term** - By dropping **months** in data we can convert this column to numeric column\n",
    "- **int_rate** - By dropping **%** in data we can convert this column to numeric column"
   ]
  },
  {
   "cell_type": "markdown",
   "id": "e7b13ab5",
   "metadata": {},
   "source": [
    "#### <font color =blue> Removing the **`months`** suffix and empty space prefix from the values in 'term' column and converting to int dtype"
   ]
  },
  {
   "cell_type": "code",
   "execution_count": 33,
   "id": "8267ab6c",
   "metadata": {},
   "outputs": [
    {
     "data": {
      "text/plain": [
       " 36 months    29096\n",
       " 60 months     9481\n",
       "Name: term, dtype: int64"
      ]
     },
     "execution_count": 33,
     "metadata": {},
     "output_type": "execute_result"
    }
   ],
   "source": [
    "loanDataSet_df.term.value_counts()"
   ]
  },
  {
   "cell_type": "markdown",
   "id": "8c4bbabe",
   "metadata": {},
   "source": [
    "So we can clearly take first two values excluding first space to tranform this column"
   ]
  },
  {
   "cell_type": "code",
   "execution_count": 34,
   "id": "0e692271",
   "metadata": {},
   "outputs": [],
   "source": [
    "loanDataSet_df.term = loanDataSet_df.term.apply(lambda x: int(x[1:3]))"
   ]
  },
  {
   "cell_type": "markdown",
   "id": "1192fcc8",
   "metadata": {},
   "source": [
    "#### <font color =blue> Removing the **`%`** symbol from the values in 'int_rate' column and converting to float dtype"
   ]
  },
  {
   "cell_type": "code",
   "execution_count": 35,
   "id": "d004d839",
   "metadata": {},
   "outputs": [
    {
     "data": {
      "text/plain": [
       "10.99%    913\n",
       "11.49%    790\n",
       "7.51%     787\n",
       "13.49%    749\n",
       "7.88%     725\n",
       "         ... \n",
       "16.96%      1\n",
       "18.36%      1\n",
       "16.15%      1\n",
       "16.01%      1\n",
       "16.20%      1\n",
       "Name: int_rate, Length: 370, dtype: int64"
      ]
     },
     "execution_count": 35,
     "metadata": {},
     "output_type": "execute_result"
    }
   ],
   "source": [
    "loanDataSet_df.int_rate.value_counts()"
   ]
  },
  {
   "cell_type": "markdown",
   "id": "4848268c",
   "metadata": {},
   "source": [
    "Here we just need to trim the **%** symbol"
   ]
  },
  {
   "cell_type": "code",
   "execution_count": 36,
   "id": "2eb63d29",
   "metadata": {},
   "outputs": [],
   "source": [
    "loanDataSet_df.int_rate = loanDataSet_df.int_rate.apply(lambda x: float(x[:-1]))"
   ]
  },
  {
   "cell_type": "markdown",
   "id": "deaf468d",
   "metadata": {},
   "source": [
    "### Removing Outliers"
   ]
  },
  {
   "cell_type": "code",
   "execution_count": 37,
   "id": "9e9be1a6",
   "metadata": {},
   "outputs": [
    {
     "data": {
      "text/html": [
       "<div>\n",
       "<style scoped>\n",
       "    .dataframe tbody tr th:only-of-type {\n",
       "        vertical-align: middle;\n",
       "    }\n",
       "\n",
       "    .dataframe tbody tr th {\n",
       "        vertical-align: top;\n",
       "    }\n",
       "\n",
       "    .dataframe thead th {\n",
       "        text-align: right;\n",
       "    }\n",
       "</style>\n",
       "<table border=\"1\" class=\"dataframe\">\n",
       "  <thead>\n",
       "    <tr style=\"text-align: right;\">\n",
       "      <th></th>\n",
       "      <th>count</th>\n",
       "      <th>mean</th>\n",
       "      <th>std</th>\n",
       "      <th>min</th>\n",
       "      <th>25%</th>\n",
       "      <th>50%</th>\n",
       "      <th>75%</th>\n",
       "      <th>max</th>\n",
       "    </tr>\n",
       "  </thead>\n",
       "  <tbody>\n",
       "    <tr>\n",
       "      <th>id</th>\n",
       "      <td>38577.0</td>\n",
       "      <td>676378.706561</td>\n",
       "      <td>209263.898488</td>\n",
       "      <td>54734.00</td>\n",
       "      <td>512033.00</td>\n",
       "      <td>656423.00</td>\n",
       "      <td>829146.00</td>\n",
       "      <td>1077501.00</td>\n",
       "    </tr>\n",
       "    <tr>\n",
       "      <th>member_id</th>\n",
       "      <td>38577.0</td>\n",
       "      <td>842284.337429</td>\n",
       "      <td>264451.929349</td>\n",
       "      <td>70699.00</td>\n",
       "      <td>661131.00</td>\n",
       "      <td>839292.00</td>\n",
       "      <td>1037336.00</td>\n",
       "      <td>1314167.00</td>\n",
       "    </tr>\n",
       "    <tr>\n",
       "      <th>loan_amnt</th>\n",
       "      <td>38577.0</td>\n",
       "      <td>11047.025430</td>\n",
       "      <td>7348.441646</td>\n",
       "      <td>500.00</td>\n",
       "      <td>5300.00</td>\n",
       "      <td>9600.00</td>\n",
       "      <td>15000.00</td>\n",
       "      <td>35000.00</td>\n",
       "    </tr>\n",
       "    <tr>\n",
       "      <th>funded_amnt</th>\n",
       "      <td>38577.0</td>\n",
       "      <td>10784.058506</td>\n",
       "      <td>7090.306027</td>\n",
       "      <td>500.00</td>\n",
       "      <td>5200.00</td>\n",
       "      <td>9550.00</td>\n",
       "      <td>15000.00</td>\n",
       "      <td>35000.00</td>\n",
       "    </tr>\n",
       "    <tr>\n",
       "      <th>funded_amnt_inv</th>\n",
       "      <td>38577.0</td>\n",
       "      <td>10222.481123</td>\n",
       "      <td>7022.720644</td>\n",
       "      <td>0.00</td>\n",
       "      <td>5000.00</td>\n",
       "      <td>8733.44</td>\n",
       "      <td>14000.00</td>\n",
       "      <td>35000.00</td>\n",
       "    </tr>\n",
       "    <tr>\n",
       "      <th>term</th>\n",
       "      <td>38577.0</td>\n",
       "      <td>41.898437</td>\n",
       "      <td>10.333136</td>\n",
       "      <td>36.00</td>\n",
       "      <td>36.00</td>\n",
       "      <td>36.00</td>\n",
       "      <td>36.00</td>\n",
       "      <td>60.00</td>\n",
       "    </tr>\n",
       "    <tr>\n",
       "      <th>int_rate</th>\n",
       "      <td>38577.0</td>\n",
       "      <td>11.932219</td>\n",
       "      <td>3.691327</td>\n",
       "      <td>5.42</td>\n",
       "      <td>8.94</td>\n",
       "      <td>11.71</td>\n",
       "      <td>14.38</td>\n",
       "      <td>24.40</td>\n",
       "    </tr>\n",
       "    <tr>\n",
       "      <th>installment</th>\n",
       "      <td>38577.0</td>\n",
       "      <td>322.466318</td>\n",
       "      <td>208.639215</td>\n",
       "      <td>15.69</td>\n",
       "      <td>165.74</td>\n",
       "      <td>277.86</td>\n",
       "      <td>425.55</td>\n",
       "      <td>1305.19</td>\n",
       "    </tr>\n",
       "    <tr>\n",
       "      <th>annual_inc</th>\n",
       "      <td>38577.0</td>\n",
       "      <td>68777.973681</td>\n",
       "      <td>64218.681802</td>\n",
       "      <td>4000.00</td>\n",
       "      <td>40000.00</td>\n",
       "      <td>58868.00</td>\n",
       "      <td>82000.00</td>\n",
       "      <td>6000000.00</td>\n",
       "    </tr>\n",
       "    <tr>\n",
       "      <th>dti</th>\n",
       "      <td>38577.0</td>\n",
       "      <td>13.272727</td>\n",
       "      <td>6.673044</td>\n",
       "      <td>0.00</td>\n",
       "      <td>8.13</td>\n",
       "      <td>13.37</td>\n",
       "      <td>18.56</td>\n",
       "      <td>29.99</td>\n",
       "    </tr>\n",
       "    <tr>\n",
       "      <th>pub_rec_bankruptcies</th>\n",
       "      <td>37880.0</td>\n",
       "      <td>0.043479</td>\n",
       "      <td>0.204583</td>\n",
       "      <td>0.00</td>\n",
       "      <td>0.00</td>\n",
       "      <td>0.00</td>\n",
       "      <td>0.00</td>\n",
       "      <td>2.00</td>\n",
       "    </tr>\n",
       "  </tbody>\n",
       "</table>\n",
       "</div>"
      ],
      "text/plain": [
       "                        count           mean            std       min  \\\n",
       "id                    38577.0  676378.706561  209263.898488  54734.00   \n",
       "member_id             38577.0  842284.337429  264451.929349  70699.00   \n",
       "loan_amnt             38577.0   11047.025430    7348.441646    500.00   \n",
       "funded_amnt           38577.0   10784.058506    7090.306027    500.00   \n",
       "funded_amnt_inv       38577.0   10222.481123    7022.720644      0.00   \n",
       "term                  38577.0      41.898437      10.333136     36.00   \n",
       "int_rate              38577.0      11.932219       3.691327      5.42   \n",
       "installment           38577.0     322.466318     208.639215     15.69   \n",
       "annual_inc            38577.0   68777.973681   64218.681802   4000.00   \n",
       "dti                   38577.0      13.272727       6.673044      0.00   \n",
       "pub_rec_bankruptcies  37880.0       0.043479       0.204583      0.00   \n",
       "\n",
       "                            25%        50%         75%         max  \n",
       "id                    512033.00  656423.00   829146.00  1077501.00  \n",
       "member_id             661131.00  839292.00  1037336.00  1314167.00  \n",
       "loan_amnt               5300.00    9600.00    15000.00    35000.00  \n",
       "funded_amnt             5200.00    9550.00    15000.00    35000.00  \n",
       "funded_amnt_inv         5000.00    8733.44    14000.00    35000.00  \n",
       "term                      36.00      36.00       36.00       60.00  \n",
       "int_rate                   8.94      11.71       14.38       24.40  \n",
       "installment              165.74     277.86      425.55     1305.19  \n",
       "annual_inc             40000.00   58868.00    82000.00  6000000.00  \n",
       "dti                        8.13      13.37       18.56       29.99  \n",
       "pub_rec_bankruptcies       0.00       0.00        0.00        2.00  "
      ]
     },
     "execution_count": 37,
     "metadata": {},
     "output_type": "execute_result"
    }
   ],
   "source": [
    "loanDataSet_df.describe().transpose()"
   ]
  },
  {
   "cell_type": "markdown",
   "id": "5fce1210",
   "metadata": {},
   "source": [
    "\n",
    "annual_inc\n",
    "installment"
   ]
  },
  {
   "cell_type": "markdown",
   "id": "d438fafa",
   "metadata": {},
   "source": [
    "From this its clearly visible that **annual_inc** is candidate for outlier treatment. We will plot a box plot with rest of the variables so that we can verify if any other column has such tendency.\n",
    "\n",
    "Also removing id and member id since these are autogenerative variable and have no value in outlier analysis."
   ]
  },
  {
   "cell_type": "code",
   "execution_count": 38,
   "id": "a6936238",
   "metadata": {},
   "outputs": [],
   "source": [
    "numericColumnsList = loanDataSet_df.describe().transpose().index.tolist()\n",
    "numericColumnsList.remove('annual_inc')\n",
    "numericColumnsList.remove('member_id')\n",
    "numericColumnsList.remove('id')"
   ]
  },
  {
   "cell_type": "code",
   "execution_count": 39,
   "id": "03dbfe87",
   "metadata": {},
   "outputs": [
    {
     "data": {
      "text/plain": [
       "<AxesSubplot:>"
      ]
     },
     "execution_count": 39,
     "metadata": {},
     "output_type": "execute_result"
    },
    {
     "data": {
      "image/png": "[encoded data removed]",
      "text/plain": [
       "<Figure size 1440x720 with 1 Axes>"
      ]
     },
     "metadata": {
      "needs_background": "light"
     },
     "output_type": "display_data"
    }
   ],
   "source": [
    "plt.figure(figsize=(20, 10))\n",
    "sns.boxplot(data=loanDataSet_df[numericColumnsList])"
   ]
  },
  {
   "cell_type": "markdown",
   "id": "dea961b4",
   "metadata": {},
   "source": [
    "**loan_amnt**, **funded_amnt** and **funded_amnt** "
   ]
  },
  {
   "cell_type": "code",
   "execution_count": 40,
   "id": "05a488a8",
   "metadata": {},
   "outputs": [
    {
     "data": {
      "text/plain": [
       "<AxesSubplot:>"
      ]
     },
     "execution_count": 40,
     "metadata": {},
     "output_type": "execute_result"
    },
    {
     "data": {
      "image/png": "[encoded data removed]",
      "text/plain": [
       "<Figure size 1440x720 with 1 Axes>"
      ]
     },
     "metadata": {
      "needs_background": "light"
     },
     "output_type": "display_data"
    }
   ],
   "source": [
    "numericColumnsList.remove('loan_amnt')\n",
    "numericColumnsList.remove('funded_amnt')\n",
    "numericColumnsList.remove('funded_amnt_inv')\n",
    "\n",
    "plt.figure(figsize=(20, 10))\n",
    "sns.boxplot(data=loanDataSet_df[numericColumnsList])"
   ]
  },
  {
   "cell_type": "code",
   "execution_count": 41,
   "id": "4807e1fb",
   "metadata": {},
   "outputs": [
    {
     "data": {
      "text/plain": [
       "<AxesSubplot:>"
      ]
     },
     "execution_count": 41,
     "metadata": {},
     "output_type": "execute_result"
    },
    {
     "data": {
      "image/png": "[encoded data removed]",
      "text/plain": [
       "<Figure size 1440x720 with 1 Axes>"
      ]
     },
     "metadata": {
      "needs_background": "light"
     },
     "output_type": "display_data"
    }
   ],
   "source": [
    "numericColumnsList.remove('installment')\n",
    "\n",
    "plt.figure(figsize=(20, 10))\n",
    "sns.boxplot(data=loanDataSet_df[numericColumnsList])"
   ]
  },
  {
   "cell_type": "code",
   "execution_count": 42,
   "id": "7b880d09",
   "metadata": {},
   "outputs": [
    {
     "data": {
      "text/plain": [
       "<AxesSubplot:>"
      ]
     },
     "execution_count": 42,
     "metadata": {},
     "output_type": "execute_result"
    },
    {
     "data": {
      "image/png": "[encoded data removed]",
      "text/plain": [
       "<Figure size 1440x720 with 1 Axes>"
      ]
     },
     "metadata": {
      "needs_background": "light"
     },
     "output_type": "display_data"
    }
   ],
   "source": [
    "plt.figure(figsize=(20, 10))\n",
    "sns.boxplot(data=loanDataSet_df['pub_rec_bankruptcies'])"
   ]
  },
  {
   "cell_type": "code",
   "execution_count": 43,
   "id": "b26a7ac0",
   "metadata": {},
   "outputs": [
    {
     "data": {
      "text/plain": [
       "0.0    36238\n",
       "1.0     1637\n",
       "2.0        5\n",
       "Name: pub_rec_bankruptcies, dtype: int64"
      ]
     },
     "execution_count": 43,
     "metadata": {},
     "output_type": "execute_result"
    }
   ],
   "source": [
    "loanDataSet_df['pub_rec_bankruptcies'].value_counts()"
   ]
  },
  {
   "cell_type": "markdown",
   "id": "93784f0e",
   "metadata": {},
   "source": [
    "**No outliers** here just very few applicants who have 2 bankruptcies on public record"
   ]
  },
  {
   "cell_type": "code",
   "execution_count": 44,
   "id": "3a80771a",
   "metadata": {},
   "outputs": [
    {
     "data": {
      "text/plain": [
       "<AxesSubplot:>"
      ]
     },
     "execution_count": 44,
     "metadata": {},
     "output_type": "execute_result"
    },
    {
     "data": {
      "image/png": "[encoded data removed]",
      "text/plain": [
       "<Figure size 1440x720 with 1 Axes>"
      ]
     },
     "metadata": {
      "needs_background": "light"
     },
     "output_type": "display_data"
    }
   ],
   "source": [
    "plt.figure(figsize=(20, 10))\n",
    "sns.boxplot(data=loanDataSet_df['term'])"
   ]
  },
  {
   "cell_type": "code",
   "execution_count": 45,
   "id": "997bceba",
   "metadata": {},
   "outputs": [
    {
     "data": {
      "text/plain": [
       "36    29096\n",
       "60     9481\n",
       "Name: term, dtype: int64"
      ]
     },
     "execution_count": 45,
     "metadata": {},
     "output_type": "execute_result"
    }
   ],
   "source": [
    "loanDataSet_df['term'].value_counts()"
   ]
  },
  {
   "cell_type": "markdown",
   "id": "8cedd64f",
   "metadata": {},
   "source": [
    "**No outliers** here as both values have sufficient spread."
   ]
  },
  {
   "cell_type": "markdown",
   "id": "8995854d",
   "metadata": {},
   "source": [
    "As observed except **annual_inc** no visible outliers in rest of the columns as they seem to evenly spread out over whiskers. Hence we will getting in to outlier treatment for **annual_inc**."
   ]
  },
  {
   "cell_type": "code",
   "execution_count": 46,
   "id": "4ebcbdd5",
   "metadata": {},
   "outputs": [
    {
     "data": {
      "text/plain": [
       "<AxesSubplot:>"
      ]
     },
     "execution_count": 46,
     "metadata": {},
     "output_type": "execute_result"
    },
    {
     "data": {
      "image/png": "[encoded data removed]",
      "text/plain": [
       "<Figure size 1440x720 with 1 Axes>"
      ]
     },
     "metadata": {
      "needs_background": "light"
     },
     "output_type": "display_data"
    }
   ],
   "source": [
    "plt.figure(figsize=(20, 10))\n",
    "sns.boxplot(data=loanDataSet_df['annual_inc'])"
   ]
  },
  {
   "cell_type": "markdown",
   "id": "ef87c10f",
   "metadata": {},
   "source": [
    "Box plot confirming out analysis about outliers."
   ]
  },
  {
   "cell_type": "code",
   "execution_count": 47,
   "id": "92de3a8b",
   "metadata": {},
   "outputs": [
    {
     "data": {
      "text/plain": [
       "6000000.0"
      ]
     },
     "execution_count": 47,
     "metadata": {},
     "output_type": "execute_result"
    }
   ],
   "source": [
    "# checking for max value\n",
    "max(loanDataSet_df.annual_inc)"
   ]
  },
  {
   "cell_type": "code",
   "execution_count": 48,
   "id": "73e3d0ec",
   "metadata": {},
   "outputs": [
    {
     "data": {
      "text/plain": [
       "115000.0"
      ]
     },
     "execution_count": 48,
     "metadata": {},
     "output_type": "execute_result"
    }
   ],
   "source": [
    "# checking for 90th percentile\n",
    "loanDataSet_df.annual_inc.quantile(0.9)"
   ]
  },
  {
   "cell_type": "code",
   "execution_count": 49,
   "id": "8cd635f4",
   "metadata": {},
   "outputs": [
    {
     "data": {
      "text/plain": [
       "234143.99999999878"
      ]
     },
     "execution_count": 49,
     "metadata": {},
     "output_type": "execute_result"
    }
   ],
   "source": [
    "# checking for 99th percentile\n",
    "loanDataSet_df.annual_inc.quantile(0.99)"
   ]
  },
  {
   "cell_type": "markdown",
   "id": "a8439f8a",
   "metadata": {},
   "source": [
    "We can see that there is sudden jump after 99th percentile hence we will be treating all such data as oulier and will only consider till 99th percentile for our analysis"
   ]
  },
  {
   "cell_type": "code",
   "execution_count": 50,
   "id": "4665eb8f",
   "metadata": {},
   "outputs": [
    {
     "name": "stdout",
     "output_type": "stream",
     "text": [
      "Now we are left with \u001b[1m38191 rows\n"
     ]
    }
   ],
   "source": [
    "loanDataSet_df = loanDataSet_df[(loanDataSet_df.annual_inc) <= (loanDataSet_df.annual_inc.quantile(0.99))]\n",
    "printRowCount(loanDataSet_df)"
   ]
  },
  {
   "cell_type": "markdown",
   "id": "248a5909",
   "metadata": {},
   "source": [
    "#### Outcome - Data Cleaning\n",
    "\n",
    "Post clean up"
   ]
  },
  {
   "cell_type": "code",
   "execution_count": 51,
   "id": "b687959f",
   "metadata": {},
   "outputs": [
    {
     "name": "stdout",
     "output_type": "stream",
     "text": [
      "Now we are left with \u001b[1m23 columns\n"
     ]
    }
   ],
   "source": [
    "printColumnCount(loanDataSet_df)"
   ]
  },
  {
   "cell_type": "code",
   "execution_count": 52,
   "id": "704dcb82",
   "metadata": {},
   "outputs": [
    {
     "name": "stdout",
     "output_type": "stream",
     "text": [
      "Now we are left with \u001b[1m38191 rows\n"
     ]
    }
   ],
   "source": [
    "printRowCount(loanDataSet_df)"
   ]
  },
  {
   "cell_type": "markdown",
   "id": "936d0457",
   "metadata": {},
   "source": [
    "## <font color =orange> **3. Data Analysis**"
   ]
  },
  {
   "cell_type": "markdown",
   "id": "facde640",
   "metadata": {},
   "source": []
  },
  {
   "cell_type": "markdown",
   "id": "b32c907d",
   "metadata": {},
   "source": [
    "We have cleaned-up the data to a level and hence will move on to Analysis stage.\n",
    "\n",
    "1. **Univariate Analysis**: In this, we are going to analyse a single column and derive patterns/insights which will help further in our analysis.\n",
    "\n",
    "2. **Segmented Univariate Analysis**: In this, we are going to segment our variables into the cases where the loan has been fully paid(***not defaulted***) and the cases where the the loan has been charged-off(***defaulted***). \n",
    "\n",
    "3. **Bivariate Analysis**: In this, we are going to check the correlation among group of two variables at a time in order to root out similar variables and also extracting combinations which help us solve the business problem.\n",
    "\n",
    "Before we actually start the analysis we will derive some columns to assist us in the analysis and hence we will be creating a checkpoint here by copy the dataframe to new data frame which we will use in analysis stage."
   ]
  },
  {
   "cell_type": "code",
   "execution_count": 53,
   "id": "aa463f8a",
   "metadata": {},
   "outputs": [],
   "source": [
    "loanDataSet_analysis_df = loanDataSet_df"
   ]
  },
  {
   "cell_type": "markdown",
   "id": "82dd08a2",
   "metadata": {},
   "source": [
    "### Derived Metrics\n",
    "\n",
    "To aid in analysis we will be derving some columns form existing columns based on type, business definition and data of columns."
   ]
  },
  {
   "cell_type": "markdown",
   "id": "80cacc76",
   "metadata": {},
   "source": [
    "#### <font color =blue> Deriving `issue_month` from column `issue_d`\n",
    "\n",
    "Lets observe the data"
   ]
  },
  {
   "cell_type": "code",
   "execution_count": 54,
   "id": "bbd0141c",
   "metadata": {},
   "outputs": [
    {
     "data": {
      "text/plain": [
       "0        Dec-11\n",
       "1        Dec-11\n",
       "2        Dec-11\n",
       "3        Dec-11\n",
       "5        Dec-11\n",
       "          ...  \n",
       "39712    Jul-07\n",
       "39713    Jul-07\n",
       "39714    Jul-07\n",
       "39715    Jul-07\n",
       "39716    Jun-07\n",
       "Name: issue_d, Length: 38191, dtype: object"
      ]
     },
     "execution_count": 54,
     "metadata": {},
     "output_type": "execute_result"
    }
   ],
   "source": [
    "loanDataSet_analysis_df.issue_d"
   ]
  },
  {
   "cell_type": "markdown",
   "id": "ddb19913",
   "metadata": {},
   "source": [
    "Anything before `-` is month hence we will split the data based on that"
   ]
  },
  {
   "cell_type": "code",
   "execution_count": 55,
   "id": "69749b42",
   "metadata": {},
   "outputs": [
    {
     "data": {
      "text/plain": [
       "0        Dec\n",
       "1        Dec\n",
       "2        Dec\n",
       "3        Dec\n",
       "5        Dec\n",
       "        ... \n",
       "39712    Jul\n",
       "39713    Jul\n",
       "39714    Jul\n",
       "39715    Jul\n",
       "39716    Jun\n",
       "Name: issue_month, Length: 38191, dtype: object"
      ]
     },
     "execution_count": 55,
     "metadata": {},
     "output_type": "execute_result"
    }
   ],
   "source": [
    "loanDataSet_analysis_df['issue_month'] = loanDataSet_analysis_df.issue_d.apply(lambda x : x.split(\"-\")[0])\n",
    "loanDataSet_analysis_df.issue_month"
   ]
  },
  {
   "cell_type": "markdown",
   "id": "057bd076",
   "metadata": {},
   "source": [
    "#### <font color =blue> Deriving `issue_year` from column `issue_d`\n",
    "    \n",
    "From observing data above we can see that year is in two digit format and from problem statement we know all data is between 2007 to 2011 hence we can safely prefix `20` while transforming "
   ]
  },
  {
   "cell_type": "code",
   "execution_count": 56,
   "id": "a03e8052",
   "metadata": {},
   "outputs": [
    {
     "data": {
      "text/plain": [
       "0        2011\n",
       "1        2011\n",
       "2        2011\n",
       "3        2011\n",
       "5        2011\n",
       "         ... \n",
       "39712    2007\n",
       "39713    2007\n",
       "39714    2007\n",
       "39715    2007\n",
       "39716    2007\n",
       "Name: issue_year, Length: 38191, dtype: int64"
      ]
     },
     "execution_count": 56,
     "metadata": {},
     "output_type": "execute_result"
    }
   ],
   "source": [
    "loanDataSet_analysis_df['issue_year'] = loanDataSet_analysis_df.issue_d.apply(lambda x : int(\"20\"+x.split(\"-\")[1]))\n",
    "loanDataSet_analysis_df.issue_year"
   ]
  },
  {
   "cell_type": "code",
   "execution_count": 57,
   "id": "7678a15e",
   "metadata": {},
   "outputs": [
    {
     "name": "stdout",
     "output_type": "stream",
     "text": [
      "Now we are left with \u001b[1m25 columns\n"
     ]
    }
   ],
   "source": [
    "printColumnCount(loanDataSet_analysis_df)"
   ]
  },
  {
   "cell_type": "markdown",
   "id": "564c8efe",
   "metadata": {},
   "source": [
    "Before starting analysis lets list the columns and classify them"
   ]
  },
  {
   "cell_type": "code",
   "execution_count": 58,
   "id": "c2e1fdf1",
   "metadata": {},
   "outputs": [
    {
     "name": "stdout",
     "output_type": "stream",
     "text": [
      "<class 'pandas.core.frame.DataFrame'>\n",
      "Int64Index: 38191 entries, 0 to 39716\n",
      "Data columns (total 25 columns):\n",
      " #   Column                Non-Null Count  Dtype  \n",
      "---  ------                --------------  -----  \n",
      " 0   id                    38191 non-null  int64  \n",
      " 1   member_id             38191 non-null  int64  \n",
      " 2   loan_amnt             38191 non-null  int64  \n",
      " 3   funded_amnt           38191 non-null  int64  \n",
      " 4   funded_amnt_inv       38191 non-null  float64\n",
      " 5   term                  38191 non-null  int64  \n",
      " 6   int_rate              38191 non-null  float64\n",
      " 7   installment           38191 non-null  float64\n",
      " 8   grade                 38191 non-null  object \n",
      " 9   sub_grade             38191 non-null  object \n",
      " 10  emp_title             35846 non-null  object \n",
      " 11  emp_length            37163 non-null  object \n",
      " 12  home_ownership        38191 non-null  object \n",
      " 13  annual_inc            38191 non-null  float64\n",
      " 14  verification_status   38191 non-null  object \n",
      " 15  issue_d               38191 non-null  object \n",
      " 16  loan_status           38191 non-null  object \n",
      " 17  purpose               38191 non-null  object \n",
      " 18  title                 38180 non-null  object \n",
      " 19  zip_code              38191 non-null  object \n",
      " 20  addr_state            38191 non-null  object \n",
      " 21  dti                   38191 non-null  float64\n",
      " 22  pub_rec_bankruptcies  37503 non-null  float64\n",
      " 23  issue_month           38191 non-null  object \n",
      " 24  issue_year            38191 non-null  int64  \n",
      "dtypes: float64(6), int64(6), object(13)\n",
      "memory usage: 7.6+ MB\n"
     ]
    }
   ],
   "source": [
    "loanDataSet_analysis_df.info()"
   ]
  },
  {
   "cell_type": "markdown",
   "id": "26ccea7a",
   "metadata": {},
   "source": [
    "**id** and **member_id** as mentioned earlier are generated identifcation numbers and since we do not have other data to connect using these ids hence they can be dropped since each row represents unique loan application"
   ]
  },
  {
   "cell_type": "code",
   "execution_count": 59,
   "id": "93cc32ba",
   "metadata": {},
   "outputs": [
    {
     "name": "stdout",
     "output_type": "stream",
     "text": [
      "Now we are left with \u001b[1m23 columns\n"
     ]
    }
   ],
   "source": [
    "loanDataSet_analysis_df.drop(['member_id','id'], axis=1, inplace=True)\n",
    "printColumnCount(loanDataSet_analysis_df)"
   ]
  },
  {
   "cell_type": "code",
   "execution_count": 60,
   "id": "cf8cd64b",
   "metadata": {},
   "outputs": [],
   "source": [
    "def plotHist(series, xlabel, ylabel=\"Number of Loan Applications\", figX=10, figY=10):\n",
    "    plt.figure(figsize=(figX, figY))\n",
    "    sns.histplot(series)\n",
    "    plt.xlabel(xlabel,fontsize=14)\n",
    "    plt.ylabel(ylabel,fontsize=14)\n",
    "    plt.yticks(size=12)\n",
    "    plt.xticks(size=12)\n",
    "    plt.xticks(rotation=90)\n",
    "    plt.show()\n",
    "    \n",
    "def plotCountV(series, xlabel, ylabel=\"Number of Loan Applications\", figX=10, figY=10):\n",
    "    plt.figure(figsize=(figX, figY))\n",
    "    sns.set_style(style='ticks')\n",
    "    sns.countplot(x=series)\n",
    "    plt.xlabel(xlabel,fontsize=14)\n",
    "    plt.ylabel(ylabel,fontsize=14)\n",
    "    plt.yticks(size=12)\n",
    "    plt.xticks(size=12)\n",
    "    plt.xticks(rotation=90)\n",
    "    plt.show()"
   ]
  },
  {
   "cell_type": "markdown",
   "id": "1e9132ab",
   "metadata": {},
   "source": [
    "### Univariate Analysis\n",
    "\n",
    "\n",
    "Lets first separate categorical and numeric variables."
   ]
  },
  {
   "cell_type": "code",
   "execution_count": 61,
   "id": "85cf0c88",
   "metadata": {
    "scrolled": true
   },
   "outputs": [
    {
     "name": "stdout",
     "output_type": "stream",
     "text": [
      "Following are\u001b[1m categrorical\u001b[0m variables:\n",
      "['grade', 'sub_grade', 'emp_title', 'emp_length', 'home_ownership', 'verification_status', 'issue_d', 'loan_status', 'purpose', 'title', 'zip_code', 'addr_state', 'issue_month']\n",
      "\n",
      "Following are\u001b[1m numeric\u001b[0m variables:\n",
      "['loan_amnt', 'funded_amnt', 'funded_amnt_inv', 'term', 'int_rate', 'installment', 'annual_inc', 'dti', 'pub_rec_bankruptcies', 'issue_year']\n"
     ]
    }
   ],
   "source": [
    "categoricalColumns_analysis = loanDataSet_analysis_df.dtypes[loanDataSet_analysis_df.dtypes == object].index # extracting all columns having object datatypes\n",
    "print(\"Following are\" +'\\033[1m'+ \" categrorical\" + '\\033[0m' +\" variables:\")\n",
    "print(categoricalColumns_analysis.tolist())\n",
    "\n",
    "numericColumns_analysis = loanDataSet_analysis_df.dtypes[loanDataSet_analysis_df.dtypes != object].index # extracting all columns having object datatypes\n",
    "print(\"\\nFollowing are\" +'\\033[1m'+ \" numeric\" + '\\033[0m' +\" variables:\")\n",
    "print(numericColumns_analysis.tolist())"
   ]
  },
  {
   "cell_type": "markdown",
   "id": "cc7c7196",
   "metadata": {},
   "source": [
    "#### <font color =blue> Analysing `grade` (unordered, categorical)\n",
    "    \n",
    "Sub-grade we will use in further analysis as not benefit of drilling down on univariate"
   ]
  },
  {
   "cell_type": "code",
   "execution_count": 62,
   "id": "706669a8",
   "metadata": {},
   "outputs": [
    {
     "data": {
      "text/plain": [
       "B    11581\n",
       "A     9977\n",
       "C     7753\n",
       "D     5027\n",
       "E     2610\n",
       "F      954\n",
       "G      289\n",
       "Name: grade, dtype: int64"
      ]
     },
     "execution_count": 62,
     "metadata": {},
     "output_type": "execute_result"
    }
   ],
   "source": [
    "loanDataSet_analysis_df.grade.value_counts()"
   ]
  },
  {
   "cell_type": "code",
   "execution_count": 63,
   "id": "6c727aeb",
   "metadata": {},
   "outputs": [
    {
     "data": {
      "text/plain": [
       "0"
      ]
     },
     "execution_count": 63,
     "metadata": {},
     "output_type": "execute_result"
    }
   ],
   "source": [
    "loanDataSet_analysis_df.grade.isna().sum()"
   ]
  },
  {
   "cell_type": "code",
   "execution_count": 64,
   "id": "f06ba0d5",
   "metadata": {},
   "outputs": [
    {
     "data": {
      "image/png": "[encoded data removed]",
      "text/plain": [
       "<Figure size 720x720 with 1 Axes>"
      ]
     },
     "metadata": {
      "needs_background": "light"
     },
     "output_type": "display_data"
    }
   ],
   "source": [
    "plotCountV(loanDataSet_analysis_df.grade.sort_values(), \"Loan grade(grade)\")"
   ]
  },
  {
   "cell_type": "markdown",
   "id": "b690b95b",
   "metadata": {},
   "source": [
    "#### <font color =blue> Analysing `emp_title` (unordered, categorical)\n",
    "    "
   ]
  },
  {
   "cell_type": "code",
   "execution_count": 65,
   "id": "6487073c",
   "metadata": {},
   "outputs": [
    {
     "data": {
      "text/plain": [
       "US Army                                 131\n",
       "Bank of America                         107\n",
       "IBM                                      62\n",
       "AT&T                                     57\n",
       "Kaiser Permanente                        56\n",
       "                                       ... \n",
       "Macy's East Inc.                          1\n",
       "westin                                    1\n",
       "New Mexico Department of Corrections      1\n",
       "Sapa                                      1\n",
       "Evergreen Center                          1\n",
       "Name: emp_title, Length: 27793, dtype: int64"
      ]
     },
     "execution_count": 65,
     "metadata": {},
     "output_type": "execute_result"
    }
   ],
   "source": [
    "loanDataSet_analysis_df.emp_title.value_counts()"
   ]
  },
  {
   "cell_type": "markdown",
   "id": "5c34e704",
   "metadata": {},
   "source": [
    "The data is too varied (27k different values) hence we will limit the data to read the pattern."
   ]
  },
  {
   "cell_type": "code",
   "execution_count": 66,
   "id": "82afe5c7",
   "metadata": {},
   "outputs": [
    {
     "data": {
      "image/png": "[encoded data removed]",
      "text/plain": [
       "<Figure size 1440x720 with 1 Axes>"
      ]
     },
     "metadata": {},
     "output_type": "display_data"
    }
   ],
   "source": [
    "plt.figure(figsize=(20, 10))\n",
    "loanDataSet_analysis_df.emp_title.value_counts().head(10).plot(kind='bar')\n",
    "plt.xlabel(\"Employer Name/Title(emp_title)\",fontsize=14)\n",
    "plt.ylabel(\"Number of Loan Applications\",fontsize=14)\n",
    "plt.yticks(size=12)\n",
    "plt.xticks(size=12)\n",
    "plt.xticks(rotation=90)\n",
    "plt.show()"
   ]
  },
  {
   "cell_type": "code",
   "execution_count": 67,
   "id": "510f67f8",
   "metadata": {},
   "outputs": [
    {
     "data": {
      "text/plain": [
       "2345"
      ]
     },
     "execution_count": 67,
     "metadata": {},
     "output_type": "execute_result"
    }
   ],
   "source": [
    "loanDataSet_analysis_df.emp_title.isna().sum()"
   ]
  },
  {
   "cell_type": "markdown",
   "id": "e4325a86",
   "metadata": {},
   "source": [
    "So while **US Amry** is the top employeer whose employees take the loan, there is a major chunk of applicants whose \"Employeer Name/Title\" itself is unknown"
   ]
  },
  {
   "cell_type": "markdown",
   "id": "01caabc3",
   "metadata": {},
   "source": [
    "#### <font color =blue> Analysing `emp_length` (ordered, categorical/numeric)\n",
    "    "
   ]
  },
  {
   "cell_type": "code",
   "execution_count": 68,
   "id": "c5b79fe5",
   "metadata": {},
   "outputs": [
    {
     "data": {
      "text/plain": [
       "10+ years    8354\n",
       "< 1 year     4479\n",
       "2 years      4245\n",
       "3 years      3977\n",
       "4 years      3315\n",
       "5 years      3168\n",
       "1 year       3143\n",
       "6 years      2151\n",
       "7 years      1697\n",
       "8 years      1419\n",
       "9 years      1215\n",
       "Name: emp_length, dtype: int64"
      ]
     },
     "execution_count": 68,
     "metadata": {},
     "output_type": "execute_result"
    }
   ],
   "source": [
    "loanDataSet_analysis_df.emp_length.value_counts()"
   ]
  },
  {
   "cell_type": "code",
   "execution_count": 69,
   "id": "a98e16c1",
   "metadata": {},
   "outputs": [
    {
     "data": {
      "text/plain": [
       "1028"
      ]
     },
     "execution_count": 69,
     "metadata": {},
     "output_type": "execute_result"
    }
   ],
   "source": [
    "loanDataSet_analysis_df.emp_length.isna().sum()"
   ]
  },
  {
   "cell_type": "code",
   "execution_count": 70,
   "id": "b331d65b",
   "metadata": {},
   "outputs": [
    {
     "data": {
      "image/png": "[encoded data removed]",
      "text/plain": [
       "<Figure size 720x720 with 1 Axes>"
      ]
     },
     "metadata": {},
     "output_type": "display_data"
    }
   ],
   "source": [
    "plotCountV(loanDataSet_analysis_df.emp_length.sort_values(), \"Employment length in years(emp_length)\" )"
   ]
  },
  {
   "cell_type": "markdown",
   "id": "a5099b93",
   "metadata": {},
   "source": [
    "People working for higher number of years have better chance of getting their applications approved or they apply the most. Since we do not have rejection data hence we cannot conclude on this."
   ]
  },
  {
   "cell_type": "markdown",
   "id": "e47a44cd",
   "metadata": {},
   "source": [
    "#### <font color =blue> Analysing `home_ownership` (unordered, categorical)\n",
    "    "
   ]
  },
  {
   "cell_type": "code",
   "execution_count": 71,
   "id": "5d988a16",
   "metadata": {},
   "outputs": [
    {
     "data": {
      "text/plain": [
       "RENT        18397\n",
       "MORTGAGE    16748\n",
       "OWN          2947\n",
       "OTHER          96\n",
       "NONE            3\n",
       "Name: home_ownership, dtype: int64"
      ]
     },
     "execution_count": 71,
     "metadata": {},
     "output_type": "execute_result"
    }
   ],
   "source": [
    "loanDataSet_analysis_df.home_ownership.value_counts()"
   ]
  },
  {
   "cell_type": "code",
   "execution_count": 72,
   "id": "c54d705b",
   "metadata": {},
   "outputs": [
    {
     "data": {
      "text/plain": [
       "0"
      ]
     },
     "execution_count": 72,
     "metadata": {},
     "output_type": "execute_result"
    }
   ],
   "source": [
    "loanDataSet_analysis_df.home_ownership.isna().sum()"
   ]
  },
  {
   "cell_type": "code",
   "execution_count": 73,
   "id": "1022d0ec",
   "metadata": {},
   "outputs": [
    {
     "data": {
      "image/png": "[encoded data removed]",
      "text/plain": [
       "<Figure size 720x720 with 1 Axes>"
      ]
     },
     "metadata": {},
     "output_type": "display_data"
    }
   ],
   "source": [
    "plotCountV(loanDataSet_analysis_df.home_ownership, \"Home Ownership status(home_ownership)\")"
   ]
  },
  {
   "cell_type": "markdown",
   "id": "556588a6",
   "metadata": {},
   "source": [
    "Majority applicants have **mortgaged** or **rented** accomodations"
   ]
  },
  {
   "cell_type": "markdown",
   "id": "cc1a8516",
   "metadata": {},
   "source": [
    "#### <font color =blue> Analysing `verification_status` (unordered, categorical)\n",
    "    "
   ]
  },
  {
   "cell_type": "code",
   "execution_count": 74,
   "id": "987cd804",
   "metadata": {},
   "outputs": [
    {
     "data": {
      "text/plain": [
       "Not Verified       16604\n",
       "Verified           12031\n",
       "Source Verified     9556\n",
       "Name: verification_status, dtype: int64"
      ]
     },
     "execution_count": 74,
     "metadata": {},
     "output_type": "execute_result"
    }
   ],
   "source": [
    "loanDataSet_analysis_df.verification_status.value_counts()"
   ]
  },
  {
   "cell_type": "code",
   "execution_count": 75,
   "id": "ac64e651",
   "metadata": {},
   "outputs": [
    {
     "data": {
      "text/plain": [
       "0"
      ]
     },
     "execution_count": 75,
     "metadata": {},
     "output_type": "execute_result"
    }
   ],
   "source": [
    "loanDataSet_analysis_df.verification_status.isna().sum()"
   ]
  },
  {
   "cell_type": "code",
   "execution_count": 76,
   "id": "80cd2a09",
   "metadata": {},
   "outputs": [
    {
     "data": {
      "image/png": "[encoded data removed]",
      "text/plain": [
       "<Figure size 720x720 with 1 Axes>"
      ]
     },
     "metadata": {},
     "output_type": "display_data"
    }
   ],
   "source": [
    "plotCountV(loanDataSet_analysis_df.verification_status, \"Income/Income Source verified(verification_status)\")"
   ]
  },
  {
   "cell_type": "code",
   "execution_count": 77,
   "id": "1f08eb43",
   "metadata": {},
   "outputs": [
    {
     "data": {
      "image/png": "[encoded data removed]",
      "text/plain": [
       "<Figure size 720x720 with 1 Axes>"
      ]
     },
     "metadata": {},
     "output_type": "display_data"
    }
   ],
   "source": [
    "plotCountV(loanDataSet_analysis_df.verification_status.apply(lambda x : 'Verfied' if x in ['Source Verified','Verified'] else x), \"Income verified(verification_status)\")"
   ]
  },
  {
   "cell_type": "markdown",
   "id": "03cac076",
   "metadata": {},
   "source": [
    "#### <font color =blue> Analysing `loan_amnt`"
   ]
  },
  {
   "cell_type": "code",
   "execution_count": 78,
   "id": "ea5eaa95",
   "metadata": {},
   "outputs": [
    {
     "data": {
      "image/png": "[encoded data removed]",
      "text/plain": [
       "<Figure size 720x720 with 1 Axes>"
      ]
     },
     "metadata": {},
     "output_type": "display_data"
    }
   ],
   "source": [
    "plotHist(loanDataSet_analysis_df.loan_amnt,\"Loan Amount(loan_amnt)\",ylabel = \"Number of Loan Applications\")"
   ]
  },
  {
   "cell_type": "markdown",
   "id": "47cc6096",
   "metadata": {},
   "source": [
    "#### Outcome - Univariate Analysis\n",
    "\n",
    "Since each of these variables has some value range or specific categories which have higher number of applications or variables like int_rate which are pretty common. \n",
    "\n",
    "As the data itself is for approved applicants hence to conclude these categories are highest applicants will be inconclusive but we can say that once existing approval mechanism filters out the applicants then among those these categories have the highest application submission-approval.\n",
    "\n",
    "We will be using these to further target our analysis in segmented univariate and bivariate analysis so that we can discover pattern for applicant ***default*** and share recommendations."
   ]
  },
  {
   "cell_type": "markdown",
   "id": "0a0a0f18",
   "metadata": {},
   "source": [
    "### Segmented Univariate Analysis"
   ]
  },
  {
   "cell_type": "code",
   "execution_count": null,
   "id": "34a8849e",
   "metadata": {},
   "outputs": [],
   "source": []
  },
  {
   "cell_type": "code",
   "execution_count": null,
   "id": "9f4a6302",
   "metadata": {},
   "outputs": [],
   "source": []
  },
  {
   "cell_type": "code",
   "execution_count": null,
   "id": "08bc8040",
   "metadata": {},
   "outputs": [],
   "source": []
  },
  {
   "cell_type": "markdown",
   "id": "2afe40fb",
   "metadata": {},
   "source": [
    "### Bivariate Analysis"
   ]
  },
  {
   "cell_type": "code",
   "execution_count": null,
   "id": "3bda4282",
   "metadata": {},
   "outputs": [],
   "source": []
  },
  {
   "cell_type": "code",
   "execution_count": null,
   "id": "b5b3a82e",
   "metadata": {},
   "outputs": [],
   "source": []
  },
  {
   "cell_type": "code",
   "execution_count": null,
   "id": "e9f25f05",
   "metadata": {},
   "outputs": [],
   "source": []
  },
  {
   "cell_type": "markdown",
   "id": "d1360035",
   "metadata": {},
   "source": [
    "## <font color =orange> **4. Recommendations**"
   ]
  },
  {
   "cell_type": "code",
   "execution_count": null,
   "id": "6d6d18ff",
   "metadata": {},
   "outputs": [],
   "source": []
  }
 ],
 "metadata": {
  "kernelspec": {
   "display_name": "Python 3.8.5 64-bit ('base': conda)",
   "language": "python",
   "name": "python3812jvsc74a57bd0a9c47f8d8cc6e5460dbd7894984f56fb221c43a8a943918a90d9a18bbd72bcba"
  },
  "language_info": {
   "codemirror_mode": {
    "name": "ipython",
    "version": 3
   },
   "file_extension": ".py",
   "mimetype": "text/x-python",
   "name": "python",
   "nbconvert_exporter": "python",
   "pygments_lexer": "ipython3",
   "version": "3.8.12"
  }
 },
 "nbformat": 4,
 "nbformat_minor": 5
}
